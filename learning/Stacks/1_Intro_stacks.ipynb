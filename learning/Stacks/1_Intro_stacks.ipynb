{
 "cells": [
  {
   "cell_type": "markdown",
   "id": "58498263-fe9f-4269-8d91-1d493d65da5a",
   "metadata": {},
   "source": [
    "# 1 Introducción a las pilas (Stacks)\n",
    "\n",
    "Una pila es una estructura de datos que contiene un conjunto ordenado de datos.\n",
    "\n",
    "Las pilas proporcionan tres métodos de interacción:\n",
    "- `Push`: agrega datos a la parte superior de la pila.\n",
    "- `Pop`: devuelve y elimina datos de la parte superior de la pila.\n",
    "- `Peek`: devuelve datos de la parte superior de la pila sin eliminarlos.\n",
    "\n",
    "Las pilas imitan una \"pila\" física de objetos. Considere un conjunto de pesas de gimnasio.\n",
    "\n",
    "Cada placa tiene un peso (los datos). La primera placa que agrega o empuja hacia el piso es tanto la parte inferior como la superior de la pila. Cada peso agregado se convierte en la nueva parte superior de la pila.\n",
    "\n",
    "En cualquier momento, el único peso que puede quitar o extraer de la pila es el de arriba. Puede echar un vistazo y leer el peso de arriba sin quitarlo de la pila.\n",
    "\n",
    "La última placa que coloca se convierte en la primera y única a la que puede acceder. Esta es una estructura LIFO o __ultimo en entrar primero en salir__ (en ingles Last In First Out). Otro término menos utilizado es __primero en entrar último en salir__ o FILO (First in Last Out)."
   ]
  },
  {
   "cell_type": "markdown",
   "id": "fed50dec-7591-4d2f-bdb5-a3e65ce950b7",
   "metadata": {},
   "source": [
    "## 1.1 Implementación de pilas\n",
    "\n",
    "Las pilas se pueden implementar utilizando una lista enlazada como la estructura de datos subyacente porque es más eficiente que una lista o arreglo.\n",
    "\n",
    "Dependiendo de la implementación, la parte superior de la pila es equivalente al nodo `head` de una lista enlazada y la parte inferior de la pila es equivalente al nodo `tail`.\n",
    "\n",
    "<img src='stack.png' width=800>\n",
    "\n",
    "Una restricción que se puede colocar en una pila es su tamaño. Esto se hace para limitar y cuantificar los recursos que ocupará la estructura de datos cuando esté \"llena\".\n",
    "\n",
    "Intentar introducir datos en una pila que ya está llena dará como resultado un `overflow` de pila. De manera similar, si intenta extraer datos de una pila vacía, dará como resultado un `underflow` de pila."
   ]
  },
  {
   "cell_type": "markdown",
   "id": "13bb57c7-0943-4866-895d-e54844d1a277",
   "metadata": {},
   "source": [
    "## 1.2 Revisión de pilas\n",
    "\n",
    "Pilas:\n",
    "- Contienen nodos con datos.\n",
    "- Admiten tres operaciones principales:\n",
    "    - `Push` agrega datos a la parte superior de la pila.\n",
    "    - `Pop` elimina y proporciona datos de la parte superior de la pila.\n",
    "    - `Peek` muestra datos en la parte superior de la pila.\n",
    "- Las implementaciones incluyen una lista enlazada o un arreglo.\n",
    "- Pueden tener un tamaño limitado.\n",
    "- Introducir datos en una pila llena da como resultado un desbordamiento de pila.\n",
    "- Las pilas procesan los datos según el método LIFO (último en entrar, primero en salir)."
   ]
  }
 ],
 "metadata": {
  "kernelspec": {
   "display_name": "Python 3 (ipykernel)",
   "language": "python",
   "name": "python3"
  },
  "language_info": {
   "codemirror_mode": {
    "name": "ipython",
    "version": 3
   },
   "file_extension": ".py",
   "mimetype": "text/x-python",
   "name": "python",
   "nbconvert_exporter": "python",
   "pygments_lexer": "ipython3",
   "version": "3.8.5"
  }
 },
 "nbformat": 4,
 "nbformat_minor": 5
}
