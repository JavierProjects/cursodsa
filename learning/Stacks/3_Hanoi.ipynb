{
 "cells": [
  {
   "cell_type": "markdown",
   "id": "e1f555c1-7140-4c77-97be-8f31f3a84db7",
   "metadata": {},
   "source": [
    "# 1. Torres de Hanoi\n",
    "\n",
    "Torres de Hanoi es un antiguo rompecabezas matemático que comienza con tres pilas y muchos discos. El objetivo del juego es mover la pila de discos desde la pila más a la izquierda a la más a la derecha.\n",
    "\n",
    "El juego sigue tres reglas:\n",
    "1. Solo se puede mover un disco a la vez.\n",
    "2. Cada movimiento consiste en tomar el disco superior de una de las pilas y colocarlo sobre otra pila o sobre una varilla vacía.\n",
    "3. No se puede colocar ningún disco sobre un disco más pequeño.\n",
    "\n",
    "En este proyecto, vas a utilizar tu conocimiento de pilas para implementar este juego. \n",
    "\n",
    "<img src='Hanoi.gif' width=800>"
   ]
  },
  {
   "cell_type": "markdown",
   "id": "06cdb884-f84d-4367-bd48-845cfd393b54",
   "metadata": {},
   "source": [
    "# 2. Creando las pilas\n",
    "\n",
    "En este juego, tendremos tres pilas. Cada una de estas pilas tendrá un nombre. Hecha un vistazo al archivo  `StackHanoi.py` ([Ver StackHanoi.py](StackHanoi.py)) y observa cómo el método `_init_`de la calse `Stack` ahora acepta un nombre.\n",
    "\n",
    "Además, también hay un método `get_name`, un método `get_size` y un método `print_items` que usaras más adelante en el proyecto.\n",
    "\n",
    "1. Primero, configura tus tres pilas en el archivo `HanoiGame.py`([Abrir HanoiGame.py](HanoiGame.py)). Debajo del comentario `#Crear las pilas`, cree una variable, `stacks`, y configúrela como una lista vacía. En esta variable almacenaras las pilas mas adelante.\n",
    "2. Ahora, crea tres instancias de `Stack`: `left_stack`, `middle_stack`, `right_stack`. Asígnales los nombres de `Left`, `Middle` y `Right` respectivamente. \n",
    "3. Añade cada una de estas instancias de Stack `stacks`."
   ]
  },
  {
   "cell_type": "markdown",
   "id": "66d88350-f4ae-4838-897a-15b6dd935051",
   "metadata": {},
   "source": [
    "# 3. Configuración del juego\n",
    "4. Ahora que tienes las pilas creadas, es momento de crear los discos. Debajo del comentario `#Configurar el juego`, crea una variable, `num_disks`, y configúrala como la representación `int` de la entrada del usuario cuando se le pregunte `¿Con cuántos discos quieres jugar?`, recuerda usar `input` para la entrada de datos del usuario.\n",
    "5. El juego solo es divertido cuando hay al menos tres discos. Crea un bucle `while` que verifique si `num_disks` es menor que 3.\n",
    "6. Detro del bucle, establece `num_disks` como la representación `int` de la entrada del usuario cuando se le solicite `\"Ingresa un número mayor o igual a 3\\n\"`.\n",
    "7. Ahoras es tiempo de agregar los discos, para esto  los discos se representaran  con números. El disco 3 es más grande que el disco 1, etc. Después del bucle `while`, crea un bucle `for` que itere hacia atrás usando `range`; es decir, comienza en `num_disks` y termina en 1.\n",
    "8. En el bucle `for`, inserta el número en `left_stack`.\n",
    "9. Ahora que has creado las pilas y agregado los discos a la pila izquierda, es necesario que calcules la cantidad de movimientos óptimos. Para las torres de Hanoi, la cantidad de movimientos óptimos siempre es $2^{\\mbox{Numero de discos}} - 1$.\n",
    "10. Después del bucle `for`, crea una variable, `num_optimal_moves`, y configúrala igual a la cantidad de movimientos óptimos.\n",
    "11. Luego, imprime `\"\\nLo más rápido que puedes resolver este juego es en {0} movimientos\"`. `{0}` corresponde a `num_optimal_moves`.\n",
    "12. En este punto puedes verificar si tu codigo funciona adecuadamente ejecutando en la terminal el archivo `HanoiGame.py` usando `python3 HanoiGame.py`, ver la siguiente figura como referencia.\n",
    "\n",
    "<img src='t1.png' width=900>\n",
    "\n"
   ]
  },
  {
   "cell_type": "markdown",
   "id": "6e2a1039-d856-4a0d-b877-21a120d68b56",
   "metadata": {},
   "source": [
    "# 4. Obtener la entrada del usuario\n",
    "\n",
    "Ahora, vamos a crear una función auxiliar que solicite a los usuarios que elijan una pila. Queremos que los usuarios solo ingresen la primera letra. Por ejemplo:\n",
    "```\n",
    "Ingresa L para Left\n",
    "```\n",
    "\n",
    "13. Debajo del comentario, `#Obtener entrada del usuario`, define una función llamada `get_input` que no acepte parámetros.\n",
    "14. En la función, cree una variable, `choices`, e inicializala con una lista que contenga las primeras letras de los nombres de las pilas i.e.  `['L', 'M', 'R']`\n",
    "15. Ahora, debes pedir al usuario una entrada hasta que obtengas una que sea válida. Dentro de la función `get_input()`, crea un bucle `while True`.\n",
    "16. Primero,debes imprimir las opciones. Lo haras iterando a través `stacks` e imprimiendo la primera letra y el nombre correspondientes.\n",
    "17. En el bucle `while`, crea un bucle `for` que use un iterador `i`, para iterar a través  de la longitud de `stacks` (usa `range`).\n",
    "18. En el bucle for: Crea una variable, `name`, e inicializala igual al nombre de `stacks[i]`. Utiliza el método `.get_name()`.\n",
    "19. Creea una variable `letter`, e inicializala igual a `choices[i]`.\n",
    "20. A continuación, imprime lo siguiente dentro del bucle `for`: `\"Escribe {0} para {1}\"`. `{0}` corresponde a `letter`, y `{1}` corresponde a `name`.\n",
    "21. Ahora que has impreso las opciones, obten la entrada del usuario. Después del bucle `for`, pero aún dentro del bucle `while`: Crea una variable `user_input`\n",
    "e inicializala igual a una entrada de datos con comillas vacías.\n",
    "22. En la terminal, ejecuta `python3 -c 'import HanoiGame; HanoiGame.get_input()'`. Se te debería solicitar continuamente que ingreses una letra de las tres opciones, ver la imagen de abajo como referencia.\n",
    "\n",
    "```\n",
    "Para salir del bucle, puedes presionar Ctrl+C.\n",
    "```\n",
    "\n",
    "<img src='t2.png' width=900>\n",
    "\n",
    "23. Ahora, verifica si el usuario hizo una elección válida. En el bucle `while`, crea una condicion `if` que verifique lo siguiente:\n",
    "    - `user_input` está en `choices`. Dentro de esta condicion, queremos verificar qué pila eligió el usuario.\n",
    "24. Dentro de la condicion `if`, crea un bucle `for` que use un iterador `i`, para iterar a través de la longitud de `stacks`.\n",
    "25. Dentro del bucle `for`, haz lo siguiente: Comprueba si `user_input` es igual a `choices[i]`. Si es así, devuelve `stacks[i]`\n",
    "26. En la terminal, ejecuta `python3 -c 'import HanoiGame; HanoiGame.get_input()'`.\n",
    "27. Se te debería solicitar que ingreses una letra de las tres opciones hasta que elijas una válida. Intenta ingresar opciones no válidas para probar la funcion."
   ]
  },
  {
   "cell_type": "markdown",
   "id": "47536acb-4f2f-4cb1-8257-61b46d0f0553",
   "metadata": {},
   "source": [
    "# 5. Jugando el juego\n",
    "\n",
    "Ahora, escribamos el código para jugar el juego.\n",
    "\n",
    "28. Debajo del comentario `#Jugando el juego`, comienza creando una variable, `num_user_moves` e inicializala en 0.\n",
    "29. El juego termina cuando la pila derecha está llena. !Ojo aqui!, si pasas todos los discos a la pila de enmedio el juego no terminara solo terminara si los pasas a la pila derecha.\n",
    "30. Crea un bucle `while` que se repita mientras el tamaño de la pila derecha no sea igual a `num_disks`. Usa el método `.get_size()`.\n",
    "31. Primero, necesitas imprimir tus pilas actuales. En el bucle `while`, has lo siguiente:\n",
    "    - imprime `\"\\n\\n\\n...Pilas actuales...\"`.\n",
    "    - Recorre `stacks` e invoca el método `.print_items()` en cada una de ellas.\n",
    "32. Ahora, seguiremos preguntando al usuario qué movimiento quiere hacer hasta que haga un movimiento válido. Después de imprimir las pilas, pero todavía en el bucle `while`, crea un bucle `while True`. En este bucle interno, comienza haciendo lo siguiente:\n",
    "    - Imprime `\"\\n¿Desde qué pila quieres mover un disco?\\n\"`.\n",
    "    - Crea una variable `from_stack` e inicializala igual al valor de retorno de `get_input()`.\n",
    "    - Imprime `\"\\n¿A qué pila quieres mover el disco?\\n\"`.\n",
    "    - Crea una variable, `to_stack` e inicializala igual al valor de retorno de `get_input()`.\n",
    "33. Guarda tu código. En la terminal, ejecuta `python3 HanoiGame.py`. Se te debería pedir continuamente que ingreses desde qué pila quieres mover y a qué pila quieres mover, ver la imagen de abajo como referencia.    \n",
    "\n",
    "<img src='t3.png' width=900>\n"
   ]
  },
  {
   "cell_type": "markdown",
   "id": "e228d2b9-7a51-4f8a-a88a-1cbd445ee7e6",
   "metadata": {},
   "source": [
    "34. Ahora, realizaremos el movimiento. Primero, verificaremos si el usuario realizó un movimiento válido. Si el usuario intentó moverse desde una pila vacía, se trata de un movimiento no válido porque no hay nada que mover. En el bucle `while` interno, crea una condicion `if` que verifique si `from_stack` está vacío. Si es así, imprime `\"\\n\\nMovimiento no válido. Inténtalo de nuevo\"`.\n",
    "35. Si el usuario mueve un disco a una pila vacía o mueve un disco a un disco más grande, ese es un movimiento válido. En el bucle `while` interno, crea una declaración `elif` que verifique si alguna de las siguientes condiciones es verdadera:\n",
    "    - `to_stack` está vacío.\n",
    "    - El valor “visto” de `from_stack` menor que el valor “visto” de `to_stack`\n",
    "    - Si es así, haz lo siguiente:\n",
    "        - Crea una variable `disk` e inicializala igual al valor extraído de `from_stack`.\n",
    "        - Empuja `disk` a `to_stack`.\n",
    "        - Incrementa `num_user_moves`.\n",
    "        - Rompe el bucle  `while` interno usando `break`.\n",
    "36. El único otro caso es si el usuario intenta mover un disco más grande a un disco más pequeño. En el bucle `while` interno, crea una condicion `else`. Dentro de ella, imprime `\"\\n\\nMovimiento no válido. Inténtalo de nuevo\"`.    \n",
    "37. Finalmente, después de ambos bucles while, imprima lo siguiente:\n",
    "`\"\\n\\nCompletaste el juego en {0} movimientos y el número óptimo de movimientos es {1}\"`. `{0}` corresponde a `num_user_moves` y `{1}` corresponde a `num_optimal_moves`.\n",
    "38. ¡Felicitaciones! ¡Has terminado el juego!. Guarda la ultima version de tu código y en la terminal, ejecuta `python3 HanoiGame.py` y ¡juega!."
   ]
  }
 ],
 "metadata": {
  "kernelspec": {
   "display_name": "Python 3 (ipykernel)",
   "language": "python",
   "name": "python3"
  },
  "language_info": {
   "codemirror_mode": {
    "name": "ipython",
    "version": 3
   },
   "file_extension": ".py",
   "mimetype": "text/x-python",
   "name": "python",
   "nbconvert_exporter": "python",
   "pygments_lexer": "ipython3",
   "version": "3.8.5"
  }
 },
 "nbformat": 4,
 "nbformat_minor": 5
}
