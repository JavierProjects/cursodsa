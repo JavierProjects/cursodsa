{
 "cells": [
  {
   "cell_type": "markdown",
   "id": "ca92cfb8-73e8-4b78-80f9-4c0bdb071318",
   "metadata": {},
   "source": [
    "### Secciones\n",
    "- __Seccion actual__ [[1. Introduccion a los Nodos]](./1_Intro_to_Nodes.ipynb)\n",
    "- Ir a la seccion [[2. Implementar clase Node]](./2_Node_implementation.ipynb)"
   ]
  },
  {
   "cell_type": "markdown",
   "id": "a611bebe-dea2-40c0-818c-16c7f5db61fe",
   "metadata": {},
   "source": [
    "# 1. Introduccion a los Nodos\n",
    "\n",
    "La primera estructura de datos que abordarás son los nodos. Aprenderás qué son y cómo implementarlos en Python. Los nodos son los componentes básicos de muchas de las estructuras de datos que siguen y los verás aparecer muchas veces a lo largo del curso."
   ]
  },
  {
   "cell_type": "markdown",
   "id": "35325fd8-8191-4c57-ae62-95bd9d1c15ee",
   "metadata": {},
   "source": [
    "Un nodo individual contiene datos y enlaces a otros nodos. Considera el nodo representado en la siguiente imagen. Este nodo `(node_a)` contiene un fragmento de datos (el número 5) y un vínculo o enlace a otro nodo `(node_b)`."
   ]
  },
  {
   "cell_type": "markdown",
   "id": "ab5715e2-a5cb-4467-96b4-e265bda53034",
   "metadata": {},
   "source": [
    "<img src=\"./images/single_node.png\" width=200>"
   ]
  },
  {
   "cell_type": "markdown",
   "id": "6c11b578-9bac-43de-9008-c3ac8f328fb1",
   "metadata": {},
   "source": [
    "Los enlaces dentro del nodo a veces se denominan **punteros**, ya que “apuntan” a otro nodo.\n",
    "\n",
    "Normalmente, las estructuras de datos implementan nodos con uno o más enlaces. Si estos enlaces son nulos (`null`), significa que ha llegado al final del nodo o ruta de enlace particular que estaba siguiendo anteriormente.\n",
    "\n",
    "En la siguiente imagen se muestran diversas implementaciones de nodos. Examina los tipos de datos y cómo se vinculan algunos de los nodos."
   ]
  },
  {
   "cell_type": "markdown",
   "id": "88b8a261-c7ff-4fe6-8ac7-f1b267a3045e",
   "metadata": {},
   "source": [
    "<img src=\"./images/multiple_nodes.png\" width=1000>"
   ]
  },
  {
   "cell_type": "markdown",
   "id": "59d60b52-8a25-4f10-bb4d-8dfb639980be",
   "metadata": {},
   "source": [
    "## 1.1 Nodo huérfano \n",
    "\n",
    "En el contexto de las estructuras de datos, un **nodo huérfano** se refiere generalmente a un nodo que ha perdido su nodo padre o que ya no está conectado a la estructura principal en la que residía. Esto puede ocurrir en diferentes contextos:\n",
    "\n",
    "1. **Estructuras de Árbol:** En una estructura de árbol, un nodo se convierte en huérfano si pierde su nodo padre sin ser reinsertado adecuadamente en otra parte del árbol. Por ejemplo, si el nodo padre es eliminado o movido sin volver a conectar el nodo hijo, este último se convierte en un nodo huérfano.\n",
    "\n",
    "2. **Estructuras de Grafo:** En un grafo, un nodo huérfano puede referirse a un nodo que ya no está conectado a ningún otro nodo, quedando efectivamente aislado del resto del grafo.\n",
    "\n",
    "3. **Listas Enlazadas:** En el contexto de las listas enlazadas, un nodo huérfano puede ocurrir si un nodo se elimina de la lista y sus referencias (enlaces al siguiente o anterior nodo) no se actualizan correctamente, dejando el nodo en la memoria pero ya no formando parte de la lista.\n",
    "\n",
    "Los nodos huérfanos suelen ser indeseables porque pueden llevar a pérdidas de memoria o inconsistencias en la estructura de datos, ya que estos nodos ya no forman parte de la estructura prevista pero siguen ocupando recursos.\n"
   ]
  },
  {
   "cell_type": "markdown",
   "id": "db3d87cb-ee7c-4ebf-b2ea-d9053b404d7a",
   "metadata": {},
   "source": [
    "## 1.2 Resumen de Nodos\n",
    "\n",
    "Los nodos:\n",
    "- Contienen datos, que pueden ser de distintos tipos.\n",
    "- Contienen vínculos a otros nodos. Si un nodo no tiene vínculos, o todos sus vinculos son nulos, has llegado al final de la ruta que estabas siguiendo.\n",
    "- Pueden quedar huérfanos si no existen vínculos a ellos."
   ]
  },
  {
   "cell_type": "markdown",
   "id": "25fbd6c0-220d-4318-a203-dac0db73429f",
   "metadata": {},
   "source": [
    "# 2. Implementar clase Node\n",
    "\n",
    "Ahora es momento de que crees tu propis clase `Node`. \n",
    "- Continuar a la seccion [[Implementar clase Node]](./2_Node_implementation.ipynb)"
   ]
  }
 ],
 "metadata": {
  "kernelspec": {
   "display_name": "Python 3 (ipykernel)",
   "language": "python",
   "name": "python3"
  },
  "language_info": {
   "codemirror_mode": {
    "name": "ipython",
    "version": 3
   },
   "file_extension": ".py",
   "mimetype": "text/x-python",
   "name": "python",
   "nbconvert_exporter": "python",
   "pygments_lexer": "ipython3",
   "version": "3.8.5"
  }
 },
 "nbformat": 4,
 "nbformat_minor": 5
}
