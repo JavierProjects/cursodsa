{
 "cells": [
  {
   "cell_type": "markdown",
   "id": "c6bdf648-694b-4a86-a7c0-4101df70344d",
   "metadata": {},
   "source": [
    "### Secciones\n",
    "- Ir a la seccion [[1. Introduccion a los Nodos]](./1_Intro_to_Nodes.ipynb)\n",
    "- __Seccion actual__ [[2. Implementar clase Node]](./2_Node_implementation.ipynb)"
   ]
  },
  {
   "cell_type": "markdown",
   "id": "1a804a96-c884-4c15-a70d-9ffbc9beeea0",
   "metadata": {},
   "source": [
    "# 2. Implementar clase `Node`"
   ]
  },
  {
   "cell_type": "markdown",
   "id": "2669b973-aef1-4510-a818-4a808a156aa8",
   "metadata": {},
   "source": [
    "1. Dentro de `Node_sandbox.py` ([Abrir archivo Node_sandbox.py](./Node_sandbox.py)), crea una clase `Node` vacía. \n",
    "    - Dentro, define un método `__init__()` el cual tiene 2 parametros:  `value` y `next_node`.\n",
    "    - `next_node` debe tener como valor predeterminado `None` si no se proporciona un valor al mommento de la instanciacion de la clase `Node`. \n",
    "    - Estos parametros deben guardarse en `self` con los nombres clave correspondientes.\n",
    "\n",
    "Despues de completar las actividades de arriba debes verificar tu avance corriendo el test correspodiente ejecutando la siguiente linea de codigo en una celda de codigo.\n",
    "\n",
    "`!python3 -m unittest test_1_init.py`"
   ]
  },
  {
   "cell_type": "code",
   "execution_count": null,
   "id": "8f413da7-9cf6-4181-85ee-da03e77c237f",
   "metadata": {},
   "outputs": [],
   "source": []
  },
  {
   "cell_type": "markdown",
   "id": "817240b5-dcd7-433c-8af6-7410faba674c",
   "metadata": {},
   "source": [
    "## 2.1 Agregar `getters`\n",
    "\n",
    "1. Dentro de `Node_sandbox.py`, agrega dos métodos: \n",
    "    - `get_value()` que devuelve `self.value`.\n",
    "    - `get_next_node()` que devuelve `self.next_node`.\n",
    "\n",
    "Despues de completar las actividades de arriba debes verificar tu avance corriendo el test correspodiente ejecutando la siguiente linea de codigo en una celda de codigo.\n",
    "\n",
    "`!python3 -m unittest test_2_getters.py`"
   ]
  },
  {
   "cell_type": "code",
   "execution_count": null,
   "id": "e8808202-8486-44ab-9751-f2c31ca0dd96",
   "metadata": {},
   "outputs": [],
   "source": []
  },
  {
   "cell_type": "markdown",
   "id": "8b57cb4f-91c8-477a-a291-82d449d0967e",
   "metadata": {},
   "source": [
    "## 2.2 Agregar `setter`\n",
    "\n",
    "1. Dentro de la clase `Node` en el archivo `Node_sandbox.py`, debes definir el método `set_next_node()`. Este método debe aceptar un parámetro, `next_node`, el cual puede ser \n",
    "    - None,\n",
    "    - Una instancia de Node\n",
    "    - O un diccionario (vacío o no vacío).\n",
    "\n",
    "2. Si `next_node` no es  uno de los tipos válidos, debes lanzar un TypeError con el mensaje: \"next_node debe ser de tipo Node, dict o None\". Usa:\n",
    "` raise TypeError(\"next_node debe ser del tipo Node, dict, o None\")`\n",
    "\n",
    "3. Si `next_node` es uno de los tipos correctos entonces asignarlo a `self`.\n",
    "\n",
    "Despues de completar las actividades de arriba debes verificar tu avance corriendo el test correspodiente ejecutando la siguiente linea de codigo en una celda de codigo.\n",
    "\n",
    "`!python3 -m unittest test_3_setter.py`"
   ]
  },
  {
   "cell_type": "code",
   "execution_count": null,
   "id": "6992fe0d-f3e5-478c-8140-8e8ca3e63141",
   "metadata": {},
   "outputs": [],
   "source": []
  },
  {
   "cell_type": "markdown",
   "id": "41b89e0d-445d-470f-b9d5-667058b47034",
   "metadata": {},
   "source": [
    "## 2.3 Usando la clase `Node`\n",
    "\n",
    "1. Dentro del archivo `Node_ejercicio.py` ([Abrir archivo Node_ejercicio.py](./Node_ejercicio.py)) y crea tres instancias de la clase Node:\n",
    "    - Juan con `value` \"Es jefe de jefes\".\n",
    "    - Yady con `value` \"Le gustan las flores\".\n",
    "    - Giovany con `value` \"Le gustan las princesas\".\n",
    "2. Asigna el `next_node` de Juan como Giovany.\n",
    "3. Asigna el `next_node` de Giovany como Yady.\n",
    "4. Guarda el `value` de Giovany en una variable llamada `Giovany_data`.\n",
    "5. Guarda el `value` de Yady en una variable llamada `Yady_data`.\n",
    "6. Finalmente, imprime los valores de `Giovany_data` y `Yady_data`.\n",
    "\n",
    "Despues de completar las actividades de arriba debes verificar tu avance corriendo el test correspodiente ejecutando la siguiente linea de codigo en una celda de codigo.\n",
    "\n",
    "`!python3 -m unittest test_4_ejercicio.py`\n"
   ]
  },
  {
   "cell_type": "code",
   "execution_count": null,
   "id": "f47da0b1-b3d6-413a-bab5-87137a54a4ef",
   "metadata": {},
   "outputs": [],
   "source": []
  }
 ],
 "metadata": {
  "kernelspec": {
   "display_name": "Python 3 (ipykernel)",
   "language": "python",
   "name": "python3"
  },
  "language_info": {
   "codemirror_mode": {
    "name": "ipython",
    "version": 3
   },
   "file_extension": ".py",
   "mimetype": "text/x-python",
   "name": "python",
   "nbconvert_exporter": "python",
   "pygments_lexer": "ipython3",
   "version": "3.8.5"
  }
 },
 "nbformat": 4,
 "nbformat_minor": 5
}
