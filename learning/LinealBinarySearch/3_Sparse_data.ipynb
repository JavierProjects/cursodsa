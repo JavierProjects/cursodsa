{
 "cells": [
  {
   "cell_type": "markdown",
   "id": "072cfedd-e9fa-41eb-a31b-eb34ac258780",
   "metadata": {},
   "source": [
    "# 1. BuscandoAndo\n",
    "\n",
    "Para probar un producto, muchas empresas utilizan datos con valores vacíos o inventados. Nuestra empresa, `BuscandoAndo`, utiliza datos vacíos y escasamente ordenados (en ingles, empty sparsely sorted data) para probar su fantástico motor de búsqueda. ¿Qué significa eso exactamente?. Los datos escasamente ordenados son aquellos en los que hay datos vacíos entre los valores ordenados. Por ejemplo, un conjunto de datos de ejemplo podría verse así:\n",
    "\n",
    "`[\"Agustin\", \"\", \"\", \"\", \"\", \"\", \"Aracely\", \"\", \"\", \"Juan\", \"\", \"\", \"\", \"Pedro\", \"\", \"\", \"Saul\", \"\", \"\", \"Thalia\", \"\", \"\", \"\", \"Yady\"]`\n",
    "\n",
    "A continuacion implementaras una versión modificada de la búsqueda binaria iterativa para buscar en un conjunto de datos escasamente ordenado."
   ]
  },
  {
   "cell_type": "markdown",
   "id": "52313ae4-80b8-489f-8134-9cab9a89616f",
   "metadata": {},
   "source": [
    "## 1.1 Comprueba si el medio está vacío\n",
    "\n",
    "Dentro de la función `sparse_search()` en el archivo `buscando_ando.py` ([Abrir buscando_ando.py](buscando_ando.py)), después de las instrucciones de impresión, haz lo siguiente:\n",
    "1. Crea dos variables, `first` y `last`, e igualalas a la primera y la última posición en el conjunto de datos respectivamente.\n",
    "2. A continuación, vas a iterar hasta encontrar `search_val` en `data`.\n",
    "    - Crea un bucle `while` que verifique si `first` es menor o igual que `last`.\n",
    "3. Dentro del bucle `while`, crea una variable llamada `mid` y configúrala como el promedio de `first`y `last`.\n",
    "4. Ahora, comprobaremos si el medio está vacío. Si es así, buscaremos los valores circundantes.\n",
    "    - En el bucle `while`, crea un `if` que compruebe si el medio de los datos está vacío, de ser asi:\n",
    "        - Crea una variable, `left` e igualala a la posición directamente a la izquierda de `mid`.\n",
    "        - Crea una variable, `right` e igualala a la posición directamente a la derecha de `mid`.  \n",
    "5. Todavia dentro de la condicion `if` crea un bucle `while(True)`. En este bucle, comprobaremos si los valores circundantes están vacíos y se interrumpirá una vez que encontremos un valor que no esté vacío.\n",
    "    - Primero, verificaremos si hemos iterado a través de todo el conjunto de datos y no hemos encontrado un valor que no esté vacío. Verifica si se cumplen las dos condiciones siguientes:\n",
    "        - `left` es menor que `first`\n",
    "        - `right` es mayor que `last`. Si es así, haz lo siguiente:\n",
    "        - Imprime: \"{0} no está en el conjunto de datos\". {0} corresponde a `search_val`.\n",
    "        - salir de la funcion con `return`.\n",
    "\n",
    "Despues de completar las actividades de arriba debes verificar tu avance corriendo el test correspodiente ejecutando la siguiente linea de codigo en una celda de codigo.\n",
    "\n",
    "`!python3 -m unittest Test_3_buscando_ando_empty.py`"
   ]
  },
  {
   "cell_type": "code",
   "execution_count": null,
   "id": "f2c509e3-0bb0-4ed8-b815-419cc04bfaff",
   "metadata": {},
   "outputs": [],
   "source": []
  },
  {
   "cell_type": "markdown",
   "id": "3927a007-e466-4f2b-adb8-808106b865ed",
   "metadata": {},
   "source": [
    "## Continuando 1.1\n",
    "\n",
    "6. Ahora, comprobaremos el valor de la derecha, `right`.\n",
    "En el bucle while interno, crea una condicion `elif` que compruebe si las siguientes 2 condiciones son verdaderas:\n",
    "    - `right` es menor o igual que `last`\n",
    "    - `data[right]` no está vacío. Si es así, haz lo siguiente:\n",
    "        - Iguala `mid` a `right`.\n",
    "        - Sal del bucle `while`.\n",
    "7. Ahora, comprobaremos el valor de la izquierda, `left`.\n",
    "En el bucle while interno, crea otra condicion `elif` que compruebe si ambas de las siguientes 2 condiciones son verdaderas:\n",
    "    - `left` es mayor o igual que `first`.\n",
    "    - `data[left]` no está vacío. Si es así, haz lo siguiente:\n",
    "        - Establece `mid` igual a `left`.\n",
    "        - Sal del bucle `while`. \n",
    "8. Si ninguna de las declaraciones es verdadera, moveremos nuestros punteros.\n",
    "En el bucle while interno, después de las declaraciones condicionales, haz lo siguiente:\n",
    "    - Incrementa `right` en 1.\n",
    "    - Reduce `left` en 1.        "
   ]
  },
  {
   "cell_type": "markdown",
   "id": "77cf07d2-4ee0-4bb3-bead-f83a5c05e266",
   "metadata": {},
   "source": [
    "## 1.2 Comprueba si el valor de búsqueda es igual al medio\n",
    "\n",
    "Ahora que manejamos los datos vacíos, continuemos con la búsqueda binaria regular. Primero verificaremos si la mitad de los datos es igual a nuestro valor de búsqueda.\n",
    "\n",
    "1. Fuera del bucle `while` interno y debajo de la condicion `if` que lo abarca, verifica si lo siguiente es verdadero:\n",
    "    - La mitad de los datos es igual a `search_val`. Si es así, haga lo siguiente:\n",
    "    - Imprime: \"{0} encontrado en la posición {1}\". {0} corresponde a `search_val` y {1} corresponde a la `mid`.\n",
    "    - Salir de la funcion con `return`.\n",
    "    \n",
    "Despues de completar las actividades de arriba debes verificar tu avance corriendo el test correspodiente ejecutando la siguiente linea de codigo en una celda de codigo.\n",
    "\n",
    "`!python3 -m unittest Test_4_buscando_ando_BAZ.py`    "
   ]
  },
  {
   "cell_type": "code",
   "execution_count": null,
   "id": "f8345725-5e6f-490e-952d-2f7374042438",
   "metadata": {},
   "outputs": [],
   "source": []
  },
  {
   "cell_type": "markdown",
   "id": "2d2fb0dd-5fc7-4189-af16-8e28ccf46eff",
   "metadata": {},
   "source": [
    "## 1.3 Comprueba si el valor de búsqueda es menor que el medio\n",
    "\n",
    "1. Debajo de la condicion `if` anterior, verifica si lo siguiente es verdadero:\n",
    "    - `search_val` es menor que `data[mid]`. Si es así, haz lo siguiente:\n",
    "        - Iguala `last`  a `mid - 1`."
   ]
  },
  {
   "cell_type": "markdown",
   "id": "0a60f74b-b78e-4954-adfe-35135a3982b9",
   "metadata": {},
   "source": [
    "## 1.4 Comprueba si el valor de búsqueda es mayor que el medio\n",
    "\n",
    "1. Debajo de la condicion if anterior, verifica si lo siguiente es verdadero:\n",
    "    - `search_val` es mayor que `data[mid]`. Si es así, haz lo siguiente:\n",
    "        - Iguala `first` a `mid + 1`."
   ]
  },
  {
   "cell_type": "markdown",
   "id": "5ecb341e-d89c-4a04-8cc4-d3b923934397",
   "metadata": {},
   "source": [
    "## 1.5 Devolver \"Valor no incluido en los datos\"\n",
    "\n",
    "1. Fuera del bucle while externo, haz lo siguiente:\n",
    "    - Imprime: \"{0} no está en el conjunto de datos\". {0} corresponde a `search_val`.\n",
    "    \n",
    "Despues de completar las actividades de arriba debes verificar tu avance corriendo el test correspodiente ejecutando la siguiente linea de codigo en una celda de codigo.\n",
    "\n",
    "`!python3 -m unittest Test_5_buscando_ando_end.py`"
   ]
  },
  {
   "cell_type": "code",
   "execution_count": null,
   "id": "52598041-7feb-437c-b944-601a126ded2e",
   "metadata": {},
   "outputs": [],
   "source": []
  }
 ],
 "metadata": {
  "kernelspec": {
   "display_name": "Python 3 (ipykernel)",
   "language": "python",
   "name": "python3"
  },
  "language_info": {
   "codemirror_mode": {
    "name": "ipython",
    "version": 3
   },
   "file_extension": ".py",
   "mimetype": "text/x-python",
   "name": "python",
   "nbconvert_exporter": "python",
   "pygments_lexer": "ipython3",
   "version": "3.8.5"
  }
 },
 "nbformat": 4,
 "nbformat_minor": 5
}
