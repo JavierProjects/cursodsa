{
 "cells": [
  {
   "cell_type": "markdown",
   "id": "12cff075-8639-44c7-b226-9da9bf701a9b",
   "metadata": {},
   "source": [
    "# 1. Algoritmo de busqueda lineal\n",
    "\n",
    "En ciencias computacionales, los algoritmos de búsqueda son procedimientos paso a paso que se utilizan para localizar y recuperar información de un conjunto de datos.\n",
    "\n",
    "El algoritmo de __búsqueda lineal__, o búsqueda secuencial, comprueba secuencialmente si un valor dado es un elemento de una lista especificada escaneando los elementos de una lista uno por uno. Comprueba cada elemento de la lista en orden desde el principio hasta el final hasta que encuentra un valor objetivo.\n",
    "\n",
    "Si encuentra el valor objetivo en la lista, el algoritmo de búsqueda lineal se detiene y devuelve la posición en la lista correspondiente al valor objetivo. Si no encuentra el valor, el algoritmo de búsqueda lineal devuelve un mensaje que indica que el valor objetivo no está en la lista."
   ]
  },
  {
   "cell_type": "markdown",
   "id": "70c1b72d-f15c-4ac8-b549-fe6315ab13d4",
   "metadata": {},
   "source": [
    "En el caso de la lista `lst = [1, 3, 7, 33, 24, 5, 0, 12, 23, 11]` podemos implementar el algoritmo de busqueda lineal para hallar el numero `24` que esta en la posicion 4 de `lst` de la siguiente forma:"
   ]
  },
  {
   "cell_type": "code",
   "execution_count": 12,
   "id": "aa57de2b-cce4-4bbd-a6f9-bad1a758eb96",
   "metadata": {},
   "outputs": [
    {
     "name": "stdout",
     "output_type": "stream",
     "text": [
      "4\n"
     ]
    }
   ],
   "source": [
    "def lineal_search(lst, value_to_find):\n",
    "    index = 0\n",
    "    for value in lst:\n",
    "        if value == value_to_find:\n",
    "            return index\n",
    "        index += 1\n",
    "    return None\n",
    "\n",
    "lst = [1, 3, 7, 33, 24, 5, 0, 12, 23, 11]\n",
    "print(lineal_search(lst, 24))\n"
   ]
  },
  {
   "cell_type": "markdown",
   "id": "9aeca461-67e5-420d-9e2a-588e49d2ed2b",
   "metadata": {},
   "source": [
    "Aunque dependiendo del lenguaje de programacion que se utilice puede que ya exitan funciones que lo hagan como en el caso de Python:"
   ]
  },
  {
   "cell_type": "code",
   "execution_count": 14,
   "id": "11a92437-f9bb-4beb-90f0-62e30d73659d",
   "metadata": {},
   "outputs": [
    {
     "name": "stdout",
     "output_type": "stream",
     "text": [
      "4\n"
     ]
    }
   ],
   "source": [
    "lst = [1, 3, 7, 33, 24, 5, 0, 12, 23, 11]\n",
    "index = lst.index(24)\n",
    "print(index)"
   ]
  },
  {
   "cell_type": "markdown",
   "id": "0152d92c-fa8d-4f5d-a4f2-2ecc5989c3fd",
   "metadata": {},
   "source": [
    "## 1.1 Rendimiento en el mejor de los casos\n",
    "\n",
    "La búsqueda lineal no se considera el algoritmo de búsqueda más eficiente especialmente para listas de grandes magnitudes. Sin embargo, la búsqueda lineal es una gran opción si espera encontrar el valor de destino al principio de la lista o si tienes una lista pequeña.\n",
    "\n",
    "El mejor de los casos de la búsqueda lineal se produce cuando el valor de destino existe en la lista y está en la primera posición de la lista. En este caso, el algoritmo de búsqueda lineal solo será necesario para hacer una comparación. La complejidad temporal de la búsqueda lineal en su mejor caso es $\\mathcal{O}(1)$ o $\\mathcal{\\Omega}(1)$."
   ]
  },
  {
   "cell_type": "markdown",
   "id": "a2ff0a9d-61e2-4a2b-ac9f-dad970bddc25",
   "metadata": {},
   "source": [
    "## 2.2 Rendimiento en el peor de los casos\n",
    "\n",
    "Existen dos casos que son los peores para la búsqueda lineal.\n",
    "- Caso 1: cuando el valor de destino está al final de la lista.\n",
    "- Caso 2: cuando el valor de destino no existe en la lista.\n",
    "\n",
    "En ambos casos, el algoritmo de búsqueda lineal tiene una complejidad de $\\mathcal{O}(N)$."
   ]
  },
  {
   "cell_type": "markdown",
   "id": "9988c289-261b-4f1b-bd8e-c623dbb945fa",
   "metadata": {},
   "source": [
    "#3 2.3 Rendimiento promedio \n",
    "\n",
    "Si esta búsqueda se usara 1000 veces en 1000 listas diferentes, algunas de ellas serían el mejor caso, otras el peor. Pero para la mayoría de las búsquedas, estaría en algún punto intermedio.\n",
    "\n",
    "En promedio, estaría en el medio de la lista, esa búsqueda tomaría $\\mathcal{O}(N/2)$ tiempo. Demostremos esto.\n",
    "\n",
    "Cada elemento de la lista `lst = [1, 3, 7, 33, 24, 5, 0, 12, 23, 11]`  requiere una cantidad diferente de comparaciones para ser encontrado en la lista. Con la búsqueda lineal, el primer elemento `1` se ubica con una comparación, el segundo elemento `3` se ubica con dos comparaciones, y así sucesivamente hasta que el último elemento se ubica en N, el tamaño de la lista, comparaciones.\n",
    "\n",
    "El numero de casos promedio es la cantidad promedio de comparaciones. Para calcularlo, usamos:\n",
    "\n",
    "$$\\mbox{numero de casos promedio} = \\frac{\\sum \\# \\mbox{ de comparaciones por cada elemento}}{\\# \\mbox{ de elementos de la lista}}$$\n",
    "\n",
    "Al resolver esto el numero de casos promedio esperado es $N/2$, asi que basándonos en las reglas de simplificación de la notacion Big-O, simplificamos la complejidad temporal en este caso a $\\mathcal{O}(N)$ o $\\mathcal{\\Theta}(N)$."
   ]
  },
  {
   "cell_type": "markdown",
   "id": "95aa31f3-370a-472a-9041-342b8eb1ab2b",
   "metadata": {},
   "source": [
    "## 2.4 Revisión de busqueda lineal \n",
    "\n",
    "La búsqueda lineal es un algoritmo de búsqueda que verifica secuencialmente si un valor dado es un elemento de una lista especificada escaneando los elementos de una lista uno por uno hasta que encuentra el valor objetivo.\n",
    "\n",
    "La complejidad temporal de la búsqueda lineal es $\\mathcal{O}(N)$, pero su rendimiento depende de su entrada:\n",
    "\n",
    "- Mejor caso: el algoritmo requiere solo 1 comparación para encontrar el valor objetivo en la primera posición de la lista.\n",
    "- Peor caso: el algoritmo requiere solo n comparaciones para encontrar el valor objetivo en la última posición de la lista o no existe en la lista.\n",
    "- Caso promedio: el algoritmo realiza N/2 comparaciones.\n",
    "\n",
    "La búsqueda lineal es una buena opción para un algoritmo de búsqueda cuando:\n",
    "- Se espera que el valor objetivo esté ubicado cerca del comienzo de la lista.\n",
    "- Es necesario realizar una búsqueda en una lista no ordenada porque la búsqueda lineal recorre toda la lista de principio a fin, independientemente de su orden."
   ]
  },
  {
   "cell_type": "markdown",
   "id": "446987c1-3390-4f32-8b4a-44e517ffdd43",
   "metadata": {},
   "source": [
    "## 2.5 Problemas\n",
    "\n",
    "1. Codifica la funcion `linear_search_v1()` la cual dada una lista de valores `search_list` y un valor `target_value` regresa el indice en  el que se encuntra `target_value`, en caso contrario lanza `raise ValueError(\"{0} no esta en la lista\".format(target_value))`. Esta funcion debe existir en el archivo `linear_search.py`([abrir linear_search.py](linear_search.py)).\n",
    "2. Utiliza el codigo de  `linear_search_v1()` y genera `linear_search_v2()` para que regrese una lista de indices en caso de que `target_value` se encuentre en multiples posiciones dentro de la lista. En caso  contrario lanza `raise ValueError(\"{0} no esta en la lista\".format(target_value))`. \n",
    "3. Utiliza el codigo de  `linear_search_v1()` y genera `linear_search_v3()` para que dada una lista de valores `search_list` regrese el indice del valor maximo."
   ]
  },
  {
   "cell_type": "code",
   "execution_count": null,
   "id": "02f28548-01c8-4c4e-8874-088f7bcf6bbd",
   "metadata": {},
   "outputs": [],
   "source": []
  }
 ],
 "metadata": {
  "kernelspec": {
   "display_name": "Python 3 (ipykernel)",
   "language": "python",
   "name": "python3"
  },
  "language_info": {
   "codemirror_mode": {
    "name": "ipython",
    "version": 3
   },
   "file_extension": ".py",
   "mimetype": "text/x-python",
   "name": "python",
   "nbconvert_exporter": "python",
   "pygments_lexer": "ipython3",
   "version": "3.8.5"
  }
 },
 "nbformat": 4,
 "nbformat_minor": 5
}
