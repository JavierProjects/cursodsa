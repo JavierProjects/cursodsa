{
 "cells": [
  {
   "cell_type": "markdown",
   "id": "08fee2e3-0589-4f0a-b94e-6a4e605b4ee5",
   "metadata": {},
   "source": [
    "### Secciones\n",
    "- Ir a la seccion [[Introduccion a las listas doblemente enlazadas]](./1_Intro_to_doubly_linked_list.ipynb)"
   ]
  },
  {
   "cell_type": "markdown",
   "id": "beb6c445-d1a3-4d5a-9166-9efe01b20960",
   "metadata": {},
   "source": [
    "# 1. Implementar una lista doblemente enlazada\n",
    "\n",
    "## 1.1 Actualizar la clase Node\n",
    "\n",
    "Primero, abre el archivo `Node.py` ([Abrir `Node.py`](./Node.py)) y pega tu codigo funcional de la clase `Node`. Vamos a modificar esta clase para que soporte tanto un enlace hacia el siguiente nodo como hacia el nodo anterior, lo cual es necesario para crear una lista doblemente enlazada.\n",
    "\n",
    "1. Agregar el nuevo parámetro `prev_node`: Actualmente, el método `__init__()` de la clase Node tiene dos parámetros: `value` y `next_node`. Debes agregar un tercer parámetro llamado `prev_node` que tendrá un valor predeterminado de `None`.\n",
    "\n",
    "2. Métodos `set_next_node()` y `get_next_node()`: Estos métodos ya deben estar implementados en tu clase. Asegúrate de que `set_next_node()` y }get_next_node()` manejen correctamente el atributo `self.next_node`.\n",
    "\n",
    "3. Implementar los métodos `set_prev_node()` y `get_prev_node()`: Ahora vamos a agregar dos métodos nuevos a la clase `Node` para manejar el nodo anterior (`prev_node`).\n",
    "    - `set_prev_node(prev_node)`: Este método debe comprobar que el valor de `prev_node` sea `None` o un objeto de tipo `Node`. Si el valor no cumple con esta condición, se debe lanzar una excepción de tipo TypeError. Reutiliza el codigo de `set_next_node`.\n",
    "    \n",
    "    - `get_prev_node()`: Este método simplemente debe devolver el valor de `self.prev_node`.\n",
    "\n",
    "4. Revisión final: \n",
    "    - Asegúrate de que tu clase `Node` ahora tiene tres atributos: `value`, `next_node` y `prev_node`.\n",
    "    - Asegúrate también de tener implementados los siguientes métodos: \n",
    "        - `get_value()`\n",
    "        - `get_next_node()` \n",
    "        - `set_next_node(next_node)`\n",
    "        - `get_prev_node()`\n",
    "        - `set_prev_node(prev_node)`\n",
    "\n",
    "Despues de completar las actividades de arriba debes verificar tu avance corriendo el test correspodiente ejecutando la siguiente linea de codigo en una celda de codigo.\n",
    "\n",
    "`!python3 -m unittest Test_1_Node.py`"
   ]
  },
  {
   "cell_type": "code",
   "execution_count": null,
   "id": "1e22db79-5828-47c8-9655-27d90f466f31",
   "metadata": {},
   "outputs": [],
   "source": []
  },
  {
   "cell_type": "markdown",
   "id": "beeac11c-5460-43b5-82c6-408d21e3c0bd",
   "metadata": {},
   "source": [
    "## 1.2 Implementar la clase `DoublyLinkedList`\n",
    "\n",
    "1. Dentro del archivo `DoublyLinkedList_sandbox.py` ([Abrir archivo DoublyLinkedList_sandbox.py](./DoublyLinkedList_sandbox.py)) crea una clase `DoublyLinkedList` vacía.\n",
    "\n",
    "2. Implementar el método `__init__`. La clase `DoublyLinkedList` debe tener dos atributos: `head_node`, que representa el primer nodo de la lista y `tail_node` que representa el último nodo de la lista.\n",
    "\n",
    "    - Dentro del método `__init__` inicializa `self.head_node` y `self.tail_node` con `None`, ya que al principio la lista está vacía.\n",
    "    \n",
    "## 1.3 Implementar el método `add_to_head`\n",
    "\n",
    "En una lista enlazada simple, podemos agregar a la cabecera de la lista verificando si ya tiene una cabecera. Luego, establecemos el nuevo nodo como cabecera (si no había cabecera) o actualizamos la propiedad cabecera y vinculamos la cabecera anterior a la nueva cabecera.\n",
    "\n",
    "Como una lista doblemente enlazada tiene una propiedad cola adicional y se construye con nodos que tienen dos punteros cada uno, hay algunos pasos más:\n",
    "\n",
    "- Comenzamos verificando si hay una cabecera actual en la lista. Si la hay (lo que significa que la lista no está vacía), entonces queremos restablecer los punteros en la cabecera de la lista:\n",
    "- Establecemos el nodo anterior de la cabecera actual en la nueva cabecera.\n",
    "- Establecemos el próximo nodo de la nueva cabecera en la cabecera actual.\n",
    "- Actualizamos la propiedad cabecera para que sea la nueva cabecera.\n",
    "- Finalmente, si no hay una cola actual en la lista (lo que significa que la lista estaba vacía): Actualizamos la propiedad cola para que sea la nueva cabecera ya que ese nodo será tanto la cabecera como la cola de la lista.\n",
    "\n",
    "1. Define un método `.add_to_head()` que tome `self` y `new_value` como parámetros. En el interior, crea:\n",
    "    - Una variable `new_head` que tome una istancia de `Node` empleando `new_value` como parametro.\n",
    "    - Una variable `current_head` a la que se le asigne la cabeza actual de la lista.\n",
    "2. Si hay un encabezado actual en la lista:\n",
    "    - Establece el `prev_node` de `current_head` como `new_head`.\n",
    "    - Establece el `next_node` de `new_head` como `current_head`.\n",
    "    - Recuerda utilizar los métodos `.set_prev_node()` y `.set_next_node()` de la clase `Node`. \n",
    "3. Fuera de la declaración `if`, asigna `new_head` a la cabeza de la lista.\n",
    "4. Por último, si la lista no tiene cola, establece la cola de la lista igual a la cabeza de las lista.\n",
    "\n",
    "Despues de completar las actividades de arriba debes verificar tu avance corriendo el test correspodiente ejecutando la siguiente linea de codigo en una celda de codigo.\n",
    "\n",
    "`!python3 -m unittest Test_2_add_to_head.py`"
   ]
  },
  {
   "cell_type": "code",
   "execution_count": null,
   "id": "ef47c7c5-debb-47c6-b085-2f77e2088742",
   "metadata": {},
   "outputs": [],
   "source": []
  },
  {
   "cell_type": "markdown",
   "id": "aea242bb-ae18-4278-9087-672102468aad",
   "metadata": {},
   "source": [
    "## 1.4 Implementar el método `add_to_tail()`\n",
    "\n",
    "Dado que las listas doblemente enlazadas tienen una propiedad de cola, no tenemos que iterar a través de toda la lista para agregar a la cola como lo hicimos con una lista enlazada simple. El nuevo método `add_to_tail()` imitara lo que hicimos en nuestro método `.add_to_head()`:\n",
    "- Verificar si hay una cola actual en la lista. \n",
    "- Si la hay (lo que significa que la lista no está vacía), entonces queremos restablecer los punteros en la cola de la lista:\n",
    "- Establece el `next_node` de la cola actual a la nueva cola.\n",
    "- Establece el `prev_node` de la nueva cola con la cola actual.\n",
    "- Actualiza la propiedad `tail_node`  para que sea la nueva cola.\n",
    "- Finalmente, si no hay una cabeza actual en la lista (lo que significa que la lista estaba vacía): Actualiza la propiedad de `head_node` para que sea igual a la nueva cola, ya que ese nodo será tanto la cabeza como la cola.\n",
    "\n",
    "1. Define un método `.add_to_tail()` que tome `self` y `new_value` como parámetros. En el interior, crea:    \n",
    "    - Una variable `new_tail` que tome una instancia de `Node` empleando `new_value` como parametro.\n",
    "    - Una variable `current_tail` a la que se le asigne la cola actual de la lista.\n",
    "2. Si hay una cola actual en la lista:\n",
    "    - Establece `next_node` de la cola actual a `new_tail`.\n",
    "    - Establece `prev_node` de `new_tail` con la cola actual. \n",
    "3. Fuera de la declaración `if`, establece la cola de la lista `tail_node` a `new_tail`.\n",
    "4. Por último, si la lista no tiene una cabeza, establece la cabeza de la lista igual a la nueva cola.    \n",
    "\n",
    "Despues de completar las actividades de arriba debes verificar tu avance corriendo el test correspodiente ejecutando la siguiente linea de codigo en una celda de codigo.\n",
    "\n",
    "`!python3 -m unittest Test_3_add_to_tail.py`"
   ]
  },
  {
   "cell_type": "code",
   "execution_count": null,
   "id": "b6e35123-a2f9-46dc-996b-f795d2b80cb7",
   "metadata": {},
   "outputs": [],
   "source": []
  }
 ],
 "metadata": {
  "kernelspec": {
   "display_name": "Python 3 (ipykernel)",
   "language": "python",
   "name": "python3"
  },
  "language_info": {
   "codemirror_mode": {
    "name": "ipython",
    "version": 3
   },
   "file_extension": ".py",
   "mimetype": "text/x-python",
   "name": "python",
   "nbconvert_exporter": "python",
   "pygments_lexer": "ipython3",
   "version": "3.8.5"
  }
 },
 "nbformat": 4,
 "nbformat_minor": 5
}
