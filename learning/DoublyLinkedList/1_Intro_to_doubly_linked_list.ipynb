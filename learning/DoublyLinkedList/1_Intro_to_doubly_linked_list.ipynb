{
 "cells": [
  {
   "cell_type": "markdown",
   "id": "73b3efe7-7b30-48f4-8d9d-1e475370ff76",
   "metadata": {},
   "source": [
    "### Secciones\n",
    "- Ir a la seccion [[Implementar una lista doblemente enlazada]](./2_doubly_linked_list_implementation.ipynb)"
   ]
  },
  {
   "cell_type": "markdown",
   "id": "9892e410-f338-4ce9-819d-6dd7661133c7",
   "metadata": {},
   "source": [
    "# 1. Introducción a listas doblemente enlazadas \n",
    "\n",
    "Al igual que una lista enlazada simple, una lista doblemente enlazada se compone de una serie de nodos. Solo que en este caso cada nodo contiene datos y dos enlaces (o punteros), uno que apunta al nodo siguiente y otro que apunta al nodo anterior de la lista. En la imagen que aparece debajo se puede apreciar lo siguiente:\n",
    "1. El nodo _cabeza_ o `head_node` es el nodo que está al principio de la lista. \n",
    "2. El nodo _cola_ o `tail_node` es el nodo que está al final de la lista. \n",
    "3. El puntero _anterior_ o `prev_node` de `head_node`  se  ajusta a `None`. Esto debido a que no existe ningun nodo antes de `head_node`.\n",
    "4. El puntero _siguiente_ o `next_node` de `tail_node` se  ajusta a `None`. Esto debido a que no existe ningun nodo depues de `tail_node`.\n",
    "\n",
    "<img src=\"./images/DoublyLinkedList.png\"  width=800>\n",
    "\n",
    "Las operaciones comunes en una lista  doblemente enlazada pueden incluir:\n",
    "\n",
    "- Agregar nodos a ambos extremos de la lista.\n",
    "- Eliminar nodos de ambos extremos de la lista\n",
    "- Encontrar y eliminar un nodo de cualquier parte de la lista.\n",
    "- Recorrer (o viajar a través de) la lista."
   ]
  },
  {
   "cell_type": "markdown",
   "id": "883dd0c0-264e-4b31-9695-a240b01bea8d",
   "metadata": {},
   "source": [
    "# 2. Agregar a la lista doblemente enlazada\n",
    "\n",
    "En una lista doblemente enlazada, agregar a la lista es un poco complicado, asi que comencemos por agregar a la cabecera de la lista y agregar a la cola de las lista.\n",
    "\n",
    "## 2.1 Agregar al inico de la lista\n",
    "\n",
    "Al agregar a la cabecera de la lista doblemente enlazada, primero debemos verificar si hay una cabecera actual; es decir, `head_node` debe ser diferente de `None`. Si no la hay, entonces la lista está vacía y simplemente podemos hacer que nuestro nuevo nodo sea el nodo cabeza o `head_node` al tiempo que tambien es el nodo cola o `tail_node`. Despues, debemos ajustar los 2 punteros `prev_node` y `next_node` a `None`. Si la lista no está vacía, entonces haremos lo siguiente:\n",
    "\n",
    "1. Ajustar el puntero anterior del `head_node` actual a nuestro nuevo `head_node`.\n",
    "2. Ajustar el puntero siguiente del nuevo `head_node` al  `head_node` actual.\n",
    "3. Ajustar el puntero anterior del nuevo  `head_node` a `None`.\n",
    "\n",
    "\n",
    "## 2.2 Agregar al final de la lista\n",
    "\n",
    "De manera similar, hay dos casos al agregar un nodo a la cola de una lista doblemente enlazada. Si la lista está vacía, entonces hacemos que el nuevo nodo sea el  `head_node` y el  `tail_node` de la lista y establecemos los punteros a `None`. Si la lista no está vacía, entonces:\n",
    "\n",
    "1. Ajustar el puntero siguiente del  `tail_node` actual al nuevo  `tail_node`.\n",
    "2. Ajustar el puntero anterior del nuevo  `tail_node` al nodo `tail_node` actual.\n",
    "3. Ajustar el puntero siguiente del nuevo  `tail_node` a `None`."
   ]
  },
  {
   "cell_type": "markdown",
   "id": "101b0b71-db02-42df-90b6-1a2827d7e5ec",
   "metadata": {},
   "source": [
    "# 3. Eliminar de la lista doblemente enlazada \n",
    "\n",
    "Debido al puntero adicional (`prev_node`) y al nodo cola (`tail_node`) en una lista doblemente enlazada, eliminar el nodo cabecera (`head_node`) de una lista doblemente enlazada es un poco más complicado que eliminarlo de una lista enlazada simple. Sin embargo, el puntero adicional y el nodo cola hacen que sea mucho más simple eliminar la cola de la lista doblemente enlazada, ya que no tenemos que recorrer toda la lista para poder hacerlo como es en el caso de la lista enlazada simple.\n",
    "\n",
    "## 3.1 Eliminar al inicio de la lista\n",
    "\n",
    "Eliminar el nodo cabecera implica actualizar el `prev_node` del nuevo  `head_node`  (el elemento directamente después de la cabeza actual) en `None` y actualizar la propiedad de cabeza de la lista. Si la cabeza también era la cola, también se producirá el proceso de eliminación de la cola.\n",
    "\n",
    "## 3.2 Eliminar al final de la lista\n",
    "\n",
    "De manera similar, eliminar la cola implica actualizar el `next_node` de la nueva cola (el elemento directamente antes de la cola) en `None` y actualizar la propiedad de cola de la lista. Si la cola también era la cabeza, también se producirá el proceso de eliminación de la cola"
   ]
  },
  {
   "cell_type": "markdown",
   "id": "92c2e8ea-7ede-488f-9fa8-d7fc7cbc6920",
   "metadata": {},
   "source": [
    "# 4. Eliminar de la mitad de la lista\n",
    "\n",
    "También es posible eliminar un nodo de la mitad de la lista. Dado que ese nodo no es ni la cabeza ni la cola de la lista, hay dos punteros que  debemos actualizar:\n",
    "\n",
    "- Debemos ajustar el puntero siguiente del nodo anterior del nodo eliminado a su siguiente nodo.\n",
    "- Debemos ajustar el puntero anterior del nodo siguiente del nodo eliminado a su nodo anterior.\n",
    "\n",
    "No es necesario cambiar los punteros del nodo eliminado, ya que actualizar los punteros de sus nodos vecinos lo eliminará de la lista. Si ningún nodo de la lista apunta a él, el nodo queda huérfano.\n",
    "\n",
    "<img src=\"./images/DoublyLinkedList_Remover_1.png\"  width=800>\n",
    "\n",
    "<img src=\"./images/DoublyLinkedList_Remover_2.png\"  width=800>"
   ]
  },
  {
   "cell_type": "markdown",
   "id": "0554eecb-da86-4ade-a122-b859222b0124",
   "metadata": {},
   "source": [
    "# 5. Resumen\n",
    "\n",
    "- Las listas doblemente enlazadas están compuestas por nodos que contienen enlaces a los nodos siguientes y anteriores.\n",
    "- Son bidireccionales, lo que significa que se pueden recorrer en ambas direcciones.\n",
    "- Tienen un puntero a un solo nodo _cabecera_, que sirve como el primer nodo de la lista.\n",
    "- Tienen un puntero a un solo nodo _cola_, que sirve como el último nodo de la lista.\n",
    "- Requieren que los punteros de la cabecera de la lista se actualicen después de agregar o quitar el `head_node`.\n",
    "- Requieren que los punteros del final de la  lista se actualicen después de agregar o quitar el  `tail_node`.\n",
    "- Requieren que los punteros de los nodos circundantes se actualicen después de quitar un nodo de la parte media de la lista.\n",
    "\n",
    "El historial de tu navegador es un ejemplo de una lista doblemente enlazada. Cuando abres tu navegador, la primer página a la que accesas se guarda es la cabecera de la lista. A medida que haces clic en las cosas y navegas a nuevas páginas, estas se agregan a la parte  inferior de la lista. Si alguna vez deseas volver a algo que ya has visitado, puedes usar el botón “atrás” para retroceder en la lista."
   ]
  },
  {
   "cell_type": "markdown",
   "id": "93bde038-40c8-404a-8efc-8e225643709e",
   "metadata": {
    "jp-MarkdownHeadingCollapsed": true,
    "tags": []
   },
   "source": [
    "# 6. Implementar una lista doblemente enlazada\n",
    "\n",
    "Ahora es momento de que crees tu propis clase `DoublyLinkedList`. \n",
    "- Continuar a la seccion [[Implementar lista doblemente enlazada]](./2_doubly_linked_list_implementation.ipynb)"
   ]
  }
 ],
 "metadata": {
  "kernelspec": {
   "display_name": "Python 3 (ipykernel)",
   "language": "python",
   "name": "python3"
  },
  "language_info": {
   "codemirror_mode": {
    "name": "ipython",
    "version": 3
   },
   "file_extension": ".py",
   "mimetype": "text/x-python",
   "name": "python",
   "nbconvert_exporter": "python",
   "pygments_lexer": "ipython3",
   "version": "3.8.5"
  }
 },
 "nbformat": 4,
 "nbformat_minor": 5
}
