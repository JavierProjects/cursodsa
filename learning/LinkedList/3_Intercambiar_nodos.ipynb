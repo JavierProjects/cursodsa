{
 "cells": [
  {
   "cell_type": "markdown",
   "id": "db47fa2c-950b-47b1-a2cb-1529f9722518",
   "metadata": {},
   "source": [
    "### Secciones\n",
    "- Ir a la seccion [[1. Estructuras de datos lineales]](./1_Intro_to_linked_list.ipynb)\n",
    "- Ir a la seccion [[2. Implementar lista enlazada simple]](./2_linked_list_implementation.ipynb)\n",
    "- __Seccion actual__ [[3. Intercambiar nodos en una lista enlazada simple]](./3_Intercambiar_nodos.ipynb)\n",
    "- Ir a la seccion [[4. Problemas]](./4_Problemas_sandbox.ipynb)"
   ]
  },
  {
   "cell_type": "markdown",
   "id": "8e2c3be8-e631-452a-86fc-b6fb0476e0a0",
   "metadata": {},
   "source": [
    "# 3. Intercambiar nodos en una lista enlazada simple\n",
    "\n",
    "Dado que las listas enlazadas simples solo tienen punteros de cada nodo a su siguiente nodo, intercambiar dos nodos en la lista no es tan fácil como hacerlo en un arreglo (donde se tiene acceso a los índices de los elementos del arreglo). No solo se tienen que encontrar los elementos que se quieren intercambiar, sino también restablecer los punteros circundantes para mantener la integridad de la lista. Esto significa realizar un seguimiento de los dos nodos que se van a intercambiar, así como de los nodos que los preceden.\n",
    "\n",
    "Dada una lista enlazada simple y los elementos que se van a intercambiar (p.ej. `val1` y `val2`), necesitamos hacer un seguimiento de cuatro valores:\n",
    "\n",
    "1. `node1`: el nodo que coincide con `val1`.\n",
    "2. `node1_prev`: el nodo anterior a `node1`.\n",
    "3. `node2`: el nodo que coincide con `val2`.\n",
    "4. `node2_prev`: el nodo anterior a `node2`.\n",
    "\n",
    "Dada una entrada de una lista enlazada, `val1` y `val2`, los pasos generales para hacerlo son los siguientes:\n",
    "\n",
    "1. Iterar a través de la lista buscando el nodo que coincida con `val1`, el cual se va a intercambiar (`node1`), al hacer este seguimiento tambien se debe dar seguimiento al nodo anterior a `node1` en esencia `node1_prev`.\n",
    "2. Repetir el paso 1 buscando el nodo que coincida con `val2` (lo que te dará `node2` y `node2_prev`).\n",
    "3. Si `node1_prev` es `None`, `node1` es la cabeza de la lista, por lo que debes ajustar `node2` como la nueva cabeza de la lista.\n",
    "4. De lo contrario, ajusta el nodo  siguiente de `node1_prev` a `node2`.\n",
    "5. Si `node2_prev` es `None`, ajusta  el encabezado de la lista a `node1`.\n",
    "6. De lo contrario, ajusta el nodo siguiente de `node2_prev` a `node1`.\n",
    "7. Ajusta el nodo siguiente de `node1` a el nodo siguiente de `node2`.\n",
    "8. Ajusta el nodo siguiente de `node2` a el nodo siguiente de `node1`.\n",
    "\n",
    "## 3.1 Encontrar los nodos coincidentes y anteriores\n",
    "\n",
    "Veamos cómo se ve la implementación de los pasos 1 y 2. Para intercambiar los dos nodos, primero debemos encontrarlos. También debemos realizar un seguimiento de los nodos que los preceden para que podamos restablecer correctamente sus punteros. (Usaremos el método `get_next_node()` de la clase `Node` para acceder al nodo siguiente).\n",
    "\n",
    "1. Comenzaremos estableciendo `node1` igual al encabezado de la lista y `node1_prev` igual a `None`. \n",
    "2. Hacemos los mismo con `node2` y `node2_prev`, ver el codigo debajo.\n",
    "3. Luego crearemos un bucle `while` que se ejecuta mientras `node1` no sea `None`. \n",
    "4. Dentro del bucle, comprobaremos si el valor de `node1` coincide con `val1`. Si es así, salimos del bucle porque hemos encontrado el nodo correcto. \n",
    "5. Si los valores de `node1` y `val1` no coinciden, actualizamos `node1_prev` igual a `node1` y  `node1` igual a su siguiente nodo.\n",
    "\n",
    "El siguiente codigo muestra la implementacion de los pasos antes descritos."
   ]
  },
  {
   "cell_type": "code",
   "execution_count": null,
   "id": "1daa81a1-76e3-4e1a-8434-078524656e39",
   "metadata": {},
   "outputs": [],
   "source": [
    "def swap_nodes(self, val1, val2):\n",
    "  node1 = self.get_head_node()\n",
    "  node2 = self.get_head_node()\n",
    "  node1_prev = None\n",
    "  node2_prev = None\n",
    "\n",
    "  while node1 is not None:\n",
    "    if node1.get_value() == val1:\n",
    "      break\n",
    "    node1_prev = node1\n",
    "    node1 = node1.get_next_node()"
   ]
  },
  {
   "cell_type": "markdown",
   "id": "9b70a1bb-2a0c-4269-94c5-46cd5f141f4f",
   "metadata": {},
   "source": [
    "Al final, hemos encontrado nuestro primer nodo coincidente y también hemos guardado su nodo anterior, que usaremos en el siguiente paso.\n",
    "\n",
    "1. Ahora, dentro del archivo `LinkedList_sandbox.py` ([Abrir archivo LinkedList_sandbox.py](./LinkedList_sandbox.py)) agrega el metodo  `swap_nodes()` y añade el codigo que aparece arriba. Despues, adiciona el código  para encontrar `node2` y su nodo anterior `node2_prev`."
   ]
  },
  {
   "cell_type": "markdown",
   "id": "f38b53ed-d69d-4253-bccd-7ab4338b1cde",
   "metadata": {},
   "source": [
    "## 3.2 Actualización de los punteros de los nodos anteriores\n",
    "\n",
    "Ahora vamos a implementar los pasos 3 y 4 que corresponden a ajustar los apuntadores de `node1_prev` y `node2_prev`, comenzando con `node1_prev`. \n",
    "1. Comienza por verificar si `node1_prev` es `None`. \n",
    "    - Si lo es, entonces `node1` es el encabezado de la lista, por lo que debes actualizar el encabezado para que sea `node2` (esto intercambia los nodos). \n",
    "    - Si `node1_prev` no es `None`, entonces ajusta su próximo nodo a `node2`.\n",
    "2. usando la misma logica, actualiza `node2_prev`.   \n",
    "    \n",
    "Usando las consideraciones anteriores actualiza el metodo `swap_nodes()`. Después de estos pasos, hemos terminado de actualizar los punteros de `node1_prev` y `node2_prev`. El siguiente paso es actualizar los punteros de `node1` y `node2`."
   ]
  },
  {
   "cell_type": "markdown",
   "id": "fedd717a-8283-4d86-ada9-20f325f96793",
   "metadata": {},
   "source": [
    "## 3.3 Actualización de los punteros de `node1` y `node2`\n",
    "\n",
    "Los ultimos 2 pasos 7 y 8 corresponden a actualizar los punteros de `node1` y `node2`. \n",
    "1. Esto es relativamente sencillo ya que debemos intercambiar los punteros entre los 2 nodos; es decir, el nodo siguiente de `node1` debe ser igual al nodo siguiente de `node2` y viceversa. Para lograr esto utiliza una variable temporal o como comunmente se le llama: `pivote`."
   ]
  },
  {
   "cell_type": "markdown",
   "id": "b5a51bd0-bc85-4984-b3ba-57d668763558",
   "metadata": {
    "tags": []
   },
   "source": [
    "# 3.4 Casos extremos\n",
    "\n",
    "En este punto el metodo de intercambio de nodos es funcional. Sin embargo, no hemos tenido en cuenta algunos casos extremos. ¿Qué sucede si no hay un nodo coincidente para una de las entradas?. El metodo `swap_nodes()` actual no se ejecutará porque intentaremos acceder al siguiente nodo de un nodo que es `None`. (Recuerda que nuestro bucle `while` inicial solo se interrumpe si se encuentra el nodo coincidente. De lo contrario, se ejecuta hasta que el nodo sea `None`).\n",
    "\n",
    "Afortunadamente, esto tiene una solución rápida. \n",
    "- Utiliza  un `if` que verifique si el `node1` o el `node2` son `None`. Si lo son, imprime: `No es posible realizar el intercambio: uno o más elementos no están en la lista` y finaliza el método (`return`). Puedes poner esto justo después de los bucles `while` que iteran a través de la lista para encontrar los nodos coincidentes."
   ]
  },
  {
   "cell_type": "markdown",
   "id": "37e84624-800a-4cef-b726-9dd89bdd8eee",
   "metadata": {},
   "source": [
    "El último caso extremo es si los dos nodos que se van a intercambiar son los mismos. Si bien nuestra implementación actual se ejecutará sin errores, no tiene sentido ejecutar toda la función si no es necesario. \n",
    "- Agrega una breve verificación al comienzo del metodo que verifique si `val1` es igual que `val2` y en caso de que esto sea verdadero imprime: `Los elementos son iguales por lo que no es necesario intercambiarlos` y finaliza el metodo (`return`).\n",
    "\n",
    "Despues de completar las actividades de arriba debes verificar tu avance corriendo el test correspodiente ejecutando la siguiente linea de codigo en una celda de codigo.\n",
    "\n",
    "`!python3 -m unittest Test_5_swap_nodes.py`    "
   ]
  },
  {
   "cell_type": "code",
   "execution_count": null,
   "id": "61e807dc-8d62-4a36-9e41-26dfcb8a2d05",
   "metadata": {},
   "outputs": [],
   "source": []
  },
  {
   "cell_type": "markdown",
   "id": "baf63569-2975-4213-98aa-6c6a618f86ab",
   "metadata": {
    "tags": []
   },
   "source": [
    "# 4. Problemas\n",
    "\n",
    "Ahora es momento de que practiques un poco tu capacidad de resolucion de problemas. \n",
    "- Continuar a la seccion [[4. Problemas]](./4_Problemas_sandbox.ipynb)"
   ]
  }
 ],
 "metadata": {
  "kernelspec": {
   "display_name": "Python 3 (ipykernel)",
   "language": "python",
   "name": "python3"
  },
  "language_info": {
   "codemirror_mode": {
    "name": "ipython",
    "version": 3
   },
   "file_extension": ".py",
   "mimetype": "text/x-python",
   "name": "python",
   "nbconvert_exporter": "python",
   "pygments_lexer": "ipython3",
   "version": "3.8.5"
  }
 },
 "nbformat": 4,
 "nbformat_minor": 5
}
