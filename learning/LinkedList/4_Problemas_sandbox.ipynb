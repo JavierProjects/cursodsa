{
 "cells": [
  {
   "cell_type": "markdown",
   "id": "fdd00914-2ba4-4707-a78e-de2931477d80",
   "metadata": {},
   "source": [
    "### Secciones\n",
    "- Ir a la seccion [[1. Estructuras de datos lineales]](./1_Intro_to_linked_list.ipynb)\n",
    "- Ir a la seccion [[2. Implementar lista enlazada simple]](./2_linked_list_implementation.ipynb)\n",
    "- ir a la seccion [[3. Intercambiar nodos en una lista enlazada simple]](./3_Intercambiar_nodos.ipynb)\n",
    "- __Seccion actual__ [[4. Problemas]](./4_Problemas_sandbox.ipynb)"
   ]
  },
  {
   "cell_type": "markdown",
   "id": "a1cfaab5-bfa0-4580-a5bd-7c7e6bae6b0b",
   "metadata": {},
   "source": [
    "# 4. Problemas\n",
    "## 4.1 Enesimo ultimo valor de una lista enlazada simple\n",
    "\n",
    "Crea una funcion `nth_last_element()` que devuelva el enesimo elemento de una lista enlazada simple iniciando desde el final de la lista.\n",
    "\n",
    "Por ejemplo: dada una lista enlazada con los siguientes elementos `1 -> 2 -> 3 -> 4 -> 5`, devuelve el penúltimo elemento (i.e. segundo). La respuesta sería el elemento 4.\n",
    "\n",
    "Para hacer esto, necesitarás alguna forma de saber qué tan lejos estás del final de la lista. Sin embargo, en una lista enlazada simple, no hay una forma sencilla de iterar hacia atrás a través de la lista cuando encuentres el final.\n",
    "\n",
    "Codifica tu solucion en el archivo `miscellaneous_sandbox.py` ([[Abrir el archivo miscellaneous_sandbox.py]](./miscellaneous_sandbox.py))\n",
    "\n",
    "Despues de completar la actividad de arriba debes verificar tu avance corriendo el test correspodiente ejecutando la siguiente linea de codigo en una celda de codigo.\n",
    "\n",
    "`!python3 -m unittest Test_6_nth_element.py`"
   ]
  },
  {
   "cell_type": "code",
   "execution_count": null,
   "id": "a25cf2cd-87a5-4437-ac7e-434e29e0187e",
   "metadata": {},
   "outputs": [],
   "source": []
  },
  {
   "cell_type": "markdown",
   "id": "9ace59a1-6b5e-4da2-a539-8e05e0f6dad5",
   "metadata": {},
   "source": [
    "## 4.2 Valor medio de una lista\n",
    "\n",
    "Crea una funcion que devuelva el nodo central de una lista enlazada.\n",
    "\n",
    "Por ejemplo, dada la lista enlazada con los siguientes elementos 1 -> 2 -> 3 -> 4 -> 5 -> 6 -> 7, el nodo central sería el elemento con el valor 4.\n",
    "\n",
    "Despues de completar la actividad de arriba debes verificar tu avance corriendo el test correspodiente ejecutando la siguiente linea de codigo en una celda de codigo.\n",
    "\n",
    "`!python3 -m unittest Test_6_nth_element.py`"
   ]
  }
 ],
 "metadata": {
  "kernelspec": {
   "display_name": "Python 3 (ipykernel)",
   "language": "python",
   "name": "python3"
  },
  "language_info": {
   "codemirror_mode": {
    "name": "ipython",
    "version": 3
   },
   "file_extension": ".py",
   "mimetype": "text/x-python",
   "name": "python",
   "nbconvert_exporter": "python",
   "pygments_lexer": "ipython3",
   "version": "3.8.5"
  }
 },
 "nbformat": 4,
 "nbformat_minor": 5
}
