{
 "cells": [
  {
   "cell_type": "markdown",
   "id": "b10568f2-ce9e-42fb-94be-ff95e786a165",
   "metadata": {},
   "source": [
    "### Secciones\n",
    "- __Seccion actual__ [[1. Estructuras de datos lineales]](./1_Intro_to_linked_list.ipynb)\n",
    "- Ir a la seccion [[2. Implementar lista enlazada simple]](./2_linked_list_implementation.ipynb)\n",
    "- Ir a la seccion [[3. Intercambiar nodos en una lista enlazada simple]](./3_Intercambiar_nodos.ipynb)\n",
    "- Ir a la seccion [[4. Problemas]](./4_Problemas_sandbox.ipynb)"
   ]
  },
  {
   "cell_type": "markdown",
   "id": "1edb8b14-54dc-4130-981d-c97053dfc961",
   "metadata": {},
   "source": [
    "# 1. Estructuras de datos lineales"
   ]
  },
  {
   "cell_type": "markdown",
   "id": "d10dedb6-39dc-4722-94c0-019f919c3f15",
   "metadata": {},
   "source": [
    "## 1.1 Lista enlazada simple\n",
    "\n",
    "Al unir nodos mediante su propiedad `next_node` se crea una lista enlazada simple."
   ]
  },
  {
   "cell_type": "markdown",
   "id": "0b2f43a3-61aa-4fd1-b7a9-6abcf2504e24",
   "metadata": {},
   "source": [
    "## 1.2 Lista doblemente enlazada\n",
    "\n",
    "Mientras que una lista enlazada simple consta de nodos con enlaces de un nodo al siguiente, una lista doblemente enlazada  también tiene un enlace al nodo anterior `prev_node`, que junto con la propiedad cola (`tail_node`) le permiten iterar hacia atrás a través de la lista con la misma facilidad con la que podría iterar hacia adelante."
   ]
  },
  {
   "cell_type": "markdown",
   "id": "2e31acd9-f60e-42be-9dfe-bd7c40af36f2",
   "metadata": {},
   "source": [
    "Una lista está compuesta por una serie de nodos, como se muestra en la imagen. El nodo principal o `head` es el nodo que se encuentra al principio de la lista. Cada nodo contiene datos y un enlace (o puntero) al siguiente nodo de la lista. La lista finaliza cuando el enlace de un nodo es nulo. Esto se denomina nodo cola."
   ]
  },
  {
   "cell_type": "markdown",
   "id": "875a37ea-87f7-482f-8390-ec7e2efb36f8",
   "metadata": {},
   "source": [
    "<img src=\"./images/lista_anlazada_simple.png\" width=800>"
   ]
  },
  {
   "cell_type": "markdown",
   "id": "debb5112-5884-41ca-a27f-dd1f255345ef",
   "metadata": {},
   "source": [
    "Dado que los nodos utilizan enlaces para indicar el siguiente nodo de la secuencia, no es necesario que se ubiquen secuencialmente en la memoria. Estos enlaces también permiten la inserción y eliminación rápida de nodos, como verá en ejercicios futuros.\n",
    "\n",
    "Las operaciones comunes en una lista enlazada pueden incluir:\n",
    "\n",
    "- agregar nodos\n",
    "- eliminar nodos\n",
    "- encontrar un nodo\n",
    "- recorrer (o viajar a través de) la lista enlazada\n",
    "\n",
    "Las listas enlazadas generalmente contienen enlaces unidireccionales (próximo nodo), pero algunas implementaciones hacen uso de enlaces bidireccionales (nodos siguiente y anterior)."
   ]
  },
  {
   "cell_type": "markdown",
   "id": "5aa1e3be-f49b-4662-b579-219fe716b2a3",
   "metadata": {},
   "source": [
    "# 1.3 Resumen de listas enlazadas \n",
    "\n",
    "- Están compuestas por nodos.\n",
    "- Los nodos contienen un enlace al siguiente nodo (y también al nodo anterior en el caso de listas enlazadas bidireccionales o doblemente enlazadas).\n",
    "- Pueden ser unidireccionales o bidireccionales.\n",
    "- Son una estructura de datos básica y forman la base de muchas otras estructuras de datos\n",
    "- Tienen un único nodo `head`, que actúa como el primer nodo de la lista.\n",
    "- Requieren cierto mantenimiento para agregar o eliminar nodos.\n",
    "- Su implementacion depende del caso de uso exacto o del lenguaje de programación que se utilice."
   ]
  },
  {
   "cell_type": "markdown",
   "id": "91991b1e-5b6c-453c-aefa-46d36eab6359",
   "metadata": {
    "jp-MarkdownHeadingCollapsed": true,
    "tags": []
   },
   "source": [
    "# 2. Implementar lista enlazada simple\n",
    "\n",
    "Ahora es momento de que crees tu propis clase `LinkedList`. \n",
    "- Continuar a la seccion [[Implementar lista enlazada simple]](./2_linked_list_implementation.ipynb)"
   ]
  }
 ],
 "metadata": {
  "kernelspec": {
   "display_name": "Python 3 (ipykernel)",
   "language": "python",
   "name": "python3"
  },
  "language_info": {
   "codemirror_mode": {
    "name": "ipython",
    "version": 3
   },
   "file_extension": ".py",
   "mimetype": "text/x-python",
   "name": "python",
   "nbconvert_exporter": "python",
   "pygments_lexer": "ipython3",
   "version": "3.8.5"
  }
 },
 "nbformat": 4,
 "nbformat_minor": 5
}
