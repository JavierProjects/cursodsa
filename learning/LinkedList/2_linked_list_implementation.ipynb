{
 "cells": [
  {
   "cell_type": "markdown",
   "id": "20f743c7-884b-4cfe-903b-b880fe65fa9c",
   "metadata": {},
   "source": [
    "### Secciones\n",
    "- Ir a la seccion [[1. Estructuras de datos lineales]](./1_Intro_to_linked_list.ipynb)\n",
    "- __Seccion actual__ [[2. Implementar lista enlazada simple]](./2_linked_list_implementation.ipynb)\n",
    "- Ir a la seccion [[3. Intercambiar nodos en una lista enlazada simple]](./3_Intercambiar_nodos.ipynb)\n",
    "- Ir a la seccion [[4. Problemas]](./4_Problemas_sandbox.ipynb)"
   ]
  },
  {
   "cell_type": "markdown",
   "id": "8df6f1fc-a490-42a5-bc86-0cc02db42aae",
   "metadata": {},
   "source": [
    "# 2. Implementar lista enlazada simple"
   ]
  },
  {
   "cell_type": "markdown",
   "id": "2da36016-62b8-469d-a1b5-b7c3595d4db5",
   "metadata": {},
   "source": [
    "Con la clase `Node` en la mano, podemos comenzar a construir una lista enlazada simple. Dependiendo del uso final de la lista enlazada, se pueden definir una variedad de métodos.\n",
    "\n",
    "Para nuestro uso, queremos poder:\n",
    "\n",
    "- obtener el nodo principal de la lista (es como echar un vistazo al primer elemento de la línea)\n",
    "- agregar un nuevo nodo al comienzo de la lista\n",
    "- imprimir los valores de la lista en orden\n",
    "- eliminar un nodo que tenga un valor particular"
   ]
  },
  {
   "cell_type": "markdown",
   "id": "3a9098f6-3043-426f-aae8-f3e43a374b06",
   "metadata": {},
   "source": [
    "## 2.1 Inicializar la clase `LinkedList`\n",
    "\n",
    "1. Antes de iniciar, copia tu codigo de la clase `Node` en el archivo `Node.py` ([abrir Node.py](Node.py)).\n",
    "2. Dentro del archivo `LinkedList_sandbox.py` ([Abrir archivo LinkedList_sandbox.py](./LinkedList_sandbox.py)) crea una clase `LinkedList` vacía.\n",
    "\n",
    "    - Define un método `.__init__()` para `LinkedList`. Queremos poder crear una instancia de `LinkedList` con un nodo cabeza (`head_node`), por lo que `.__init__()` debe tomar `value` como argumento. Asegúrate de que `value` tenga como valor predeterminado `None` si no se proporciona ningún valor.\n",
    "\n",
    "    - Dentro del método `.__init__()`, establece `self.head_node` igual a un nuevo nodo (`Node`) con `value` como su valor.\n",
    "\n",
    "    - Define un método `.get_head_node()` que nos ayude a echar un vistazo al primer nodo de la lista. Dentro del método, devuelva el nodo principal (`head_node`) de la lista enlazada.\n",
    "\n",
    "Despues de completar las actividades de arriba debes verificar tu avance corriendo el test correspodiente ejecutando la siguiente linea de codigo en una celda de codigo.\n",
    "\n",
    "`!python3 -m unittest Test_1_init.py`"
   ]
  },
  {
   "cell_type": "code",
   "execution_count": null,
   "id": "0c9d5acf-eb67-4d0d-b28b-0ba1606d39f4",
   "metadata": {},
   "outputs": [],
   "source": []
  },
  {
   "cell_type": "markdown",
   "id": "2b723d98-1422-41a8-8b83-afb132253a72",
   "metadata": {},
   "source": [
    "## 2.2 Agregar el método `.insert_beginning()`\n",
    "\n",
    "Dentro del archivo `LinkedList_sandbox.py`, vamos a extender la clase `LinkedList` que ya has creado para incluir la capacidad de insertar nuevos nodos al principio de la lista.\n",
    "\n",
    "1. Definir el método `insert_beginning()`:\n",
    "    - Este método debe tomar un argumento `new_value`, que será el valor del nuevo nodo que se insertará al comienzo de la lista.\n",
    "2. Dentro del método, crea un nuevo nodo (`Node`) con `new_value` como su valor llamado `new_node`.\n",
    "3. Luego, asigna el `next_node` de este nuevo nodo al nodo cabeza actual (`self.head_node`). \n",
    "    - Esto significa que el nuevo nodo estará enlazado al anterior nodo cabeza.\n",
    "4. Finalmente, actualiza el nodo cabeza (`self.head_node`) para que sea el nuevo nodo.\n",
    "\n",
    "Despues de completar las actividades de arriba debes verificar tu avance corriendo el test correspodiente ejecutando la siguiente linea de codigo en una celda de codigo.\n",
    "\n",
    "`!python3 -m unittest Test_2_insert.py`"
   ]
  },
  {
   "cell_type": "code",
   "execution_count": null,
   "id": "8ad7b81f-6d58-4ca0-a686-7c817e844eae",
   "metadata": {},
   "outputs": [],
   "source": []
  },
  {
   "cell_type": "markdown",
   "id": "26c7cbf0-a3c1-4030-ac20-e1249bf6c02b",
   "metadata": {},
   "source": [
    "## 2.3 Definir el método `.stringify_list()`\n",
    "\n",
    "Este método no debe tomar argumentos.\n",
    "1. Dentro del método, crea una variable `string_list` como una cadena vacía. Esta variable se utilizará para almacenar todos los valores de los nodos en la lista.\n",
    "2. Inicializa `current_node` a `self.head_node` y utiliza un bucle while para recorrer cada nodo hasta que llegues a un nodo cuyo `next_node` es `None`.\n",
    "3. En cada iteración del bucle, verifica si el valor del nodo actual (`current_node`) no es `None`. Si es así, concatena el `value` del nodo `current_node` a `string_list`, seguido de un salto de línea (`\\n`).\n",
    "4. Avanza al siguiente nodo utilizando el método `.get_next_node()` y continúa hasta que no haya más nodos.\n",
    "5. Al final del método, devuelve `string_list`.\n",
    "\n",
    "Despues de completar las actividades de arriba debes verificar tu avance corriendo el test correspodiente ejecutando la siguiente linea de codigo en una celda de codigo.\n",
    "\n",
    "`!python3 -m unittest Test_3_stringify.py`"
   ]
  },
  {
   "cell_type": "code",
   "execution_count": null,
   "id": "894559f0-7abd-4811-9a9a-55bd2b08f04f",
   "metadata": {},
   "outputs": [],
   "source": []
  },
  {
   "cell_type": "markdown",
   "id": "c88df3c8-dcfc-4da2-9f79-955d9047a377",
   "metadata": {},
   "source": [
    "## 2.4 Método `.remove_node()`\n",
    "\n",
    "¡Genial! Ahora es momento de implementar un metodo que sirva para eliminar un nodo con un valor especifico.\n",
    "\n",
    "Esto es un poco más complejo, ya que se deben manejar un par de casos especiales.\n",
    "\n",
    "Considere la siguiente lista:\n",
    "\n",
    "$a \\rightarrow b \\rightarrow c$\n",
    "\n",
    "Si se elimina el nodo b de la lista, la nueva lista debería ser:\n",
    "\n",
    "\n",
    "$a\\rightarrow c$\n",
    "\n",
    "Necesitamos actualizar el enlace dentro del nodo `a` para que coincida con lo que `b` estaba apuntando antes de \"eliminarlo\" de la lista enlazada.\n",
    "\n",
    "Por suerte para nosotros, en Python, los nodos a los que no se hace referencia se eliminarán automáticamente. Si nos ocupamos de las referencias, `b` se \"eliminará\" para nosotros en un proceso llamado Recolección de basura.\n",
    "\n",
    "Para los propósitos de esta lección, crearemos un metodo que elimine el primer nodo que contenga un valor particular. Sin embargo, también se podria crear un metodo para eliminar nodos por índice o eliminar todos los nodos que contengan un valor particular. En el caso de la funcion que se va a implementar a continuacion solo se va a eliminar el primer nodo que contenga un valor en particular."
   ]
  },
  {
   "cell_type": "markdown",
   "id": "3641a261-dd6d-4ce1-86e9-30e1efff128c",
   "metadata": {},
   "source": [
    "## 2.5 Definir el método `.remove_node()`\n",
    "\n",
    "1. Agrega un método `.remove_node()` a la clase  `LinkedList`. Debe tomar `value_to_remove` como parámetro. Buscaremos un nodo con este valor para eliminar.\n",
    "2. En el cuerpo de `.remove_node()`, establece una nueva variable `current_node` igual al `head_node` de la lista.\n",
    "3. Usaremos `current_node` para realizar un seguimiento del nodo que estamos \"mirando\" actualmente mientras recorremos la lista.\n",
    "4. Dentro del cuerpo del método, use una declaración `if` para verificar si el nodo `head` de la lista tiene un valor que sea el mismo que el valor a eliminar.\n",
    "5. Si es así, hemos encontrado el nodo que estamos buscando y debemos ajustar el puntero de la lista a nodo `head`.\n",
    "6. Dentro de la cláusula `if`, establece `self.head_node` igual al segundo nodo en la lista enlazada.\n",
    "7. Agregue una cláusula `else`. Dentro de la cláusula else:\n",
    "    - Recorre la lista hasta que `current_node.get_next_node().get_value()` sea el valor a eliminar.\n",
    "    - (Al igual que con `stringify_list`, puedes recorrer la lista utilizando un bucle while que verifique si `current_node` existe).\n",
    "    - Cuando encuentres el valor a eliminar, ajusta los enlaces en la lista para que `current_node` esté enlazado a `next_node.get_next_node()`.\n",
    "    - Después de eliminar el nodo con un valor de `value_to_remove`, asegúrese de configurar `current_node` en `None` para salir del bucle.\n",
    "    \n",
    "Despues de completar las actividades de arriba debes verificar tu avance corriendo el test correspodiente ejecutando la siguiente linea de codigo en una celda de codigo.\n",
    "\n",
    "`!python3 -m unittest Test_4_remove.py`    "
   ]
  },
  {
   "cell_type": "code",
   "execution_count": null,
   "id": "2197d33c-fc74-4c94-aeca-6d8f410b039c",
   "metadata": {},
   "outputs": [],
   "source": []
  },
  {
   "cell_type": "markdown",
   "id": "8520dd4a-2199-470c-a3d6-6bab1aff1ec7",
   "metadata": {
    "jp-MarkdownHeadingCollapsed": true,
    "tags": []
   },
   "source": [
    "# 3. Intercambiar nodos en una lista enlazada simple\n",
    "\n",
    "Ahora es momento de que crees el metodo `swap_nodes` el cual sirve para intercambiar un par de nodos basandose en sus valores. \n",
    "- Continuar a la seccion [[3. Intercambiar nodos en una lista enlazada simple]](./3_Intercambiar_nodos.ipynb)"
   ]
  }
 ],
 "metadata": {
  "kernelspec": {
   "display_name": "Python 3 (ipykernel)",
   "language": "python",
   "name": "python3"
  },
  "language_info": {
   "codemirror_mode": {
    "name": "ipython",
    "version": 3
   },
   "file_extension": ".py",
   "mimetype": "text/x-python",
   "name": "python",
   "nbconvert_exporter": "python",
   "pygments_lexer": "ipython3",
   "version": "3.8.5"
  }
 },
 "nbformat": 4,
 "nbformat_minor": 5
}
