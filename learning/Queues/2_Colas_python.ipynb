{
 "cells": [
  {
   "cell_type": "markdown",
   "id": "9bf0e684-4f88-4044-b79a-5ec4188e45c3",
   "metadata": {},
   "source": [
    "# 2 Colas en Python\n",
    "\n",
    "Ahora vas a crear una clase `Queue` con los siguientes tres métodos:\n",
    "1. `enqueue()`. Agrega un nuevo nodo al final de la cola.\n",
    "2. `dequeue()`. Eliminar un nodo de la cabecera de la cola y devolver su valor.\n",
    "3. `peek()`. Permite ver el valor de la cabecera de la cola sin devolverlo.\n",
    "\n",
    "También vas a codificar algunos métodos auxiliares que nos ayudarán a realizar un seguimiento del tamaño de la cola para evitar el “desbordamiento” (overflow) y el “subdesbordamiento” (underflow) de la cola."
   ]
  },
  {
   "cell_type": "markdown",
   "id": "6e6207c9-da32-4c90-a427-6154352454c4",
   "metadata": {},
   "source": [
    "# 2.1 Constructor de la clase `Queue`\n",
    "\n",
    "1. Dentro de `queue_sandbox.py` ([Abrir queue_sandbox.py](queue_sandbox.py)), crea una clase `Queue` con un método `__init__()`. Dentro de este método:\n",
    "    - Inicializa una propiedad de instancia `head` igual a `None`.\n",
    "    - Inicializa otra propiedad de instancia `tail` igual a `None`.\n",
    "2. Debajo de `__init__()`, define otro método `peek()` que devuelva el valor de la cabecera de la cola utilizando el método  `get_value()` de la clase `Node`.    "
   ]
  },
  {
   "cell_type": "markdown",
   "id": "7ef8eeff-e46e-4886-8358-a497dd0fecbc",
   "metadata": {},
   "source": [
    "## 2.2  Tamaño de `Queue`\n",
    "\n",
    "Las colas limitadas requieren límites en la cantidad de nodos que pueden contener, mientras que otras colas no. Para tener esto en cuenta, necesitaremos realizar algunas modificaciones en nuestra clase `Queue` para que podamos realizar un seguimiento y limitar el tamaño cuando sea necesario.\n",
    "\n",
    "Agregaremos dos nuevas propiedades para ayudarnos aquí:\n",
    "- Una propiedad `size` para realizar un seguimiento del tamaño actual de la cola.\n",
    "- Una propiedad `max_size` que las colas limitadas pueden utilizar para limitar el recuento total de nodos.\n",
    "\n",
    "Además, agregaremos tres nuevos métodos:\n",
    "- `get_size()`. Devolverá el valor de la propiedad size\n",
    "- `has_space()`. Devolverá `True` si la cola tiene espacio para otro nodo.\n",
    "- `is_empty()`. Devolverá `True` si el tamaño es 0.\n",
    "\n",
    "\n",
    "1. Agrega un nuevo parámetro `max_size` al método `__init__()` que tenga un valor predeterminado de `None`. Dentro del método:\n",
    "    - crea una variable de instancia `max_size` asignada a `max_size`.\n",
    "    - crea otra variable de instancia `size` y configúrela como `0`.\n",
    "2. Dentro de la clase `Queue` define un nuevo método `get_size()` que devuelve la propiedad de instancia `size`. \n",
    "3. Debajo de `get_size()`, define un nuevo método llamado `has_space()`.\n",
    "    - Dentro de `has_space()`, verifica el valor de self.max_size.\n",
    "    - Si `self.max_size` es `None`, siempre tendremos espacio en la cola, por lo que podemos devolver `True`.\n",
    "    - De lo contrario, si hay un valor en `max_size`, devuelve `True` si `max_size` es mayor que `self.get_size()` o `False` en caso contrario.\n",
    "4. Define otro método `is_empty` para la clase `Queue`. El método debe devolver `True` si la cola está vacía (si el tamaño de la cola es 0).   \n",
    "5. Ahora nos aseguraremos de no intentar ejecutar `peek()` en una cola vacía. Después de todo, ¡un servidor de delicatessen no puede recibir un pedido de una línea sin clientes!. En la parte superior del cuerpo del método `peek()`, use `is_empty()` para ver si la cola está vacía.\n",
    "    - Si es así, el método debera simplemente imprimir “¡No hay nada que ver aquí!”.\n",
    "    - Si no, `peek()` funcionará igual que antes."
   ]
  },
  {
   "cell_type": "markdown",
   "id": "8163e5f3-6482-4f3b-a5fe-58a09de6ead4",
   "metadata": {},
   "source": [
    "## 2.3 Metodo encolar `Enqueue`\n",
    "\n",
    "__Enqueue__ es una forma elegante de decir “agregar a una cola”, y eso es exactamente lo que estamos haciendo con `enqueue()`.\n",
    "Hay tres escenarios que nos preocupan cuando agregamos un nodo a la cola:\n",
    "- La cola está vacía, por lo que el nodo que estamos agregando es tanto la cabeza como la cola de la cola.\n",
    "- La cola tiene al menos otro nodo, por lo que el nodo agregado se convierte en la nueva cola.\n",
    "- La cola está llena, por lo que el nodo no se agregará porque no queremos que la cola se “desborde”.\n",
    "\n",
    "Pongamos esto en acción creando el método `enqueue()` para la clase `Queue`.\n",
    "\n",
    "1. Dentro de la clase `Queue` que creaste, define un método `enqueue()` que tome un valor de nodo `value` como parámetro.\n",
    "2. Agrega una condicion `if` para verificar si la cola tiene espacio. Si lo tiene, crea una instancia de `Node` que tome `value` como argumento y asígnalo a una nueva variable `item_to_add`.\n",
    "3. Imprime `“¡Agregando “ + str(item_to_add.get_value()) + “ a la cola!”`.\n",
    "4. También dentro de la condicion `if`, haz lo siguiente:\n",
    "    - Verifica si la cola está vacía; si es así, inicializa la cabeza y la cola de la cola con `item_to_add`.\n",
    "    - De lo contrario, usa el método `set_next_node()` de `Node` para:\n",
    "        - inicializar `item_to_add` como el próximo nodo de la cola actual\n",
    "        - inicializar la cola de la cola con `item_to_add`.\n",
    "    - Incrementar el tamaño de la cola en 1 (fuera del `else`).\n",
    "5. Después de la instrucción `if` más externa, crea una instrucción `else`. Dentro de ella, escribe `“¡Lo sentimos, no hay más espacio!”`.    "
   ]
  },
  {
   "cell_type": "code",
   "execution_count": null,
   "id": "03351a7a-bd39-468e-93b5-3ab18ddb4feb",
   "metadata": {},
   "outputs": [],
   "source": []
  }
 ],
 "metadata": {
  "kernelspec": {
   "display_name": "Python 3 (ipykernel)",
   "language": "python",
   "name": "python3"
  },
  "language_info": {
   "codemirror_mode": {
    "name": "ipython",
    "version": 3
   },
   "file_extension": ".py",
   "mimetype": "text/x-python",
   "name": "python",
   "nbconvert_exporter": "python",
   "pygments_lexer": "ipython3",
   "version": "3.8.5"
  }
 },
 "nbformat": 4,
 "nbformat_minor": 5
}
