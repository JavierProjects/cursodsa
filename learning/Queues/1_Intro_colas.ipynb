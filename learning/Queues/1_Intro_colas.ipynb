{
 "cells": [
  {
   "cell_type": "markdown",
   "id": "4e94e045-40a6-4b3d-bd38-795837cf775f",
   "metadata": {},
   "source": [
    "# 1. Introducción a las colas\n",
    "\n",
    "Una cola es una estructura de datos que contiene un conjunto ordenado de datos. Las colas proporcionan tres métodos de interacción:\n",
    "\n",
    "1. Encolar: agrega datos al final de la cola.\n",
    "2. Desencolar: elimina datos del frente de la cola.\n",
    "3. Mirar: revela datos del “frente” de la cola sin eliminarlos.\n",
    "\n",
    "Esta estructura de datos imita una cola física de objetos, como una fila de personas que compran entradas de cine. Cada persona tiene un nombre (los datos). La primera persona en cola, o en entrar en la fila, está al frente y al final de la fila. A medida que cada nueva persona se pone en cola, se convierte en el nuevo final de la fila.\n",
    "\n",
    "Cuando el cajero atiende a alguien, comienza al frente de la fila. Cada persona atendida se retira de la fila del frente de la fila, compra una entrada y se va.\n",
    "\n",
    "Si solo quieren saber quién es el siguiente en la fila, pueden echar un vistazo y obtener su nombre sin quitarlo de la cola.\n",
    "\n",
    "La primera persona en la cola es la primera en ser atendida. Las colas tienen una estructura FIFO (First In, First Out)."
   ]
  },
  {
   "cell_type": "markdown",
   "id": "c8db1e80-3636-4eb5-a327-6e1d6af02e8d",
   "metadata": {},
   "source": [
    "## 1.1 Implementacion de una cola\n",
    "\n",
    "La colas pueden ser implementadas usando un lista enlazads como estructura de datos subyacente. El frente de la cola es equivalente al nodo cabeza de la lista enlazada y el final de la cola es equivalente al nodo cola.\n",
    "\n",
    "Dado que las operaciones permitidas solo afectan la parte frontal y tracera de la cola cualquier otra modificacion a cualquiera de los otros nodos de la lista enlazada no esta permitida. A fin de que ambos extremos de la cola sean accesibles, las referencias al nodo cabeza y al nodo cola se deben mantener.\n",
    "\n",
    "Una limitante que se le puede agregar a una cola es su longitud. Si la cola tiene un limite en cuanto a la cantidad de datos que puede almacenar recibe el nombre de __cola limitada__.\n",
    "\n",
    "De manera similar a las pilas, intentar encolar datos en una cola que ya está llena resultará en un desbordamiento de la cola. Si intentas desencolar datos de una cola vacía, esto resultará en un subdesbordamiento de la cola.\n",
    "\n",
    "- __Desbordamiento (Overflow)__: Ocurre cuando intentas agregar un elemento a una cola que ya ha alcanzado su capacidad máxima.\n",
    "- __Subdesbordamiento (Underflow)__: Ocurre cuando intentas eliminar un elemento de una cola que está vacía.\n",
    "\n",
    "Es importante distinguir entre ambos términos, ya que se refieren a situaciones opuestas en la manipulación de estructuras de datos."
   ]
  },
  {
   "cell_type": "markdown",
   "id": "7a2a70e3-cd79-43b0-b5b0-4af855d55653",
   "metadata": {},
   "source": [
    "## 1.2 Revisión\n",
    "\n",
    "- Contienen nodos de datos.\n",
    "- Admiten tres operaciones principales:\n",
    "    1. Encolar: agrega datos al final de la cola\n",
    "    2. Desencolar: elimina datos del frente de la cola.\n",
    "    3. Mirar: revela datos del “frente” de la cola sin eliminarlos.\n",
    "- Se puede implementar mediante una lista enlazada.\n",
    "- Las colas limitadas tienen un tamaño limitado.\n",
    "- Encolar en una cola llena provoca un desbordamiento de la cola.\n",
    "- En las colas el primer dato en salir es el primer dato en entrar (in ingles Fist In First Out o FIFO)."
   ]
  }
 ],
 "metadata": {
  "kernelspec": {
   "display_name": "Python 3 (ipykernel)",
   "language": "python",
   "name": "python3"
  },
  "language_info": {
   "codemirror_mode": {
    "name": "ipython",
    "version": 3
   },
   "file_extension": ".py",
   "mimetype": "text/x-python",
   "name": "python",
   "nbconvert_exporter": "python",
   "pygments_lexer": "ipython3",
   "version": "3.8.5"
  }
 },
 "nbformat": 4,
 "nbformat_minor": 5
}
